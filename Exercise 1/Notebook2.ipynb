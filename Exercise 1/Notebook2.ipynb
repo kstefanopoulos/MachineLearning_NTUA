{
 "cells": [
  {
   "cell_type": "markdown",
   "metadata": {
    "collapsed": true
   },
   "source": [
    "# Epileptic Seizure Recognition Data Set \n"
   ]
  },
  {
   "cell_type": "markdown",
   "metadata": {},
   "source": [
    "## Ομάδα Α29\n",
    "## Φωτεινή Στρατή 03113001\n",
    "## Κοσμάς Στεφανόπουλος 03113098"
   ]
  },
  {
   "cell_type": "markdown",
   "metadata": {},
   "source": [
    "## 1.Εισαγωγή Dataset"
   ]
  },
  {
   "cell_type": "markdown",
   "metadata": {},
   "source": [
    "To [Epileptic Seizure Recognition Data Set](http://archive.ics.uci.edu/ml/datasets/Epileptic+Seizure+Recognition) που επεξεργαζόμαστε σε αυτή την άσκηση έχει προκύψει από τη συνένωση 5 διαφορετικών dataset, τα οποία περιλαμβάνουν καταγραφές της εγκεφαλικής δραστηριότητας ασθενών για 23.5 sec. To ενιαίο dataset που εξετάζουμε περιλαμβάνει 11500 δείγματα(500 άτομα * 23 σύνολα μετρήσεων/άτομο) και 178 χαρακτηριστικά. Το κάθε χαρακτηριστικό αναπαριστά την τιμή του εγκεφαλογραφήματος για 1 sec. "
   ]
  },
  {
   "cell_type": "markdown",
   "metadata": {},
   "source": [
    "Οι τιμές των χαρακτηριστικών του dataset είναι ακέραιοι αριθμοί, ενώ δεν υπάρχουν μη διατεταγμένα χαρακτηριστικά.\n",
    "Όπως είπαμε και παραπάνω, το Epileptic Seizure Recognition Data Set προέκυψε από τη συνένωση 5 διαφορετικών datasets. Συνεπώς, υπάρχουν 5 κλάσεις οι οποίες συμβολίζονται με τους αριθμούς 1,2,3,4,5 και βρίσκονται στην τελευταία στήλη του dataset. \n",
    "Οι στήλες και οι γραμμές του dataset είναι αριθμημένες. Ο τίτλος στην αρχή κάθε στήλης αναπαριστά ένα από τα 178 features, ενώ ο τίτλος στην αρχη κάθε γραμμής αναπαριστά την τιμή ενός από τα 23 σύνολα για ένα από τα 500 άτομα ."
   ]
  },
  {
   "cell_type": "markdown",
   "metadata": {},
   "source": [
    "Στη συνέχεια, εισάγουμε το dataset στο notebook:"
   ]
  },
  {
   "cell_type": "code",
   "execution_count": 290,
   "metadata": {},
   "outputs": [
    {
     "name": "stdout",
     "output_type": "stream",
     "text": [
      "Requirement already up-to-date: scikit-learn in /gpfs/global_fs01/sym_shared/YPProdSpark/user/s653-bbdcd845a65a2b-8dae92f2c105/.local/lib/python2.7/site-packages\n",
      "Requirement already up-to-date: numpy in /gpfs/global_fs01/sym_shared/YPProdSpark/user/s653-bbdcd845a65a2b-8dae92f2c105/.local/lib/python2.7/site-packages\n"
     ]
    }
   ],
   "source": [
    "!pip install scikit-learn --upgrade #upgrade scikit-learn package\n",
    "!pip install numpy --upgrade #upgrade numpy package\n",
    "\n",
    "from io import StringIO\n",
    "import requests\n",
    "import json\n",
    "import pandas as pd\n",
    "import numpy\n",
    "\n",
    "\n",
    "# @hidden_cell\n",
    "# This function accesses a file in your Object Storage. The definition contains your credentials.\n",
    "# You might want to remove those credentials before you share your notebook.\n",
    "def get_object_storage_file_with_credentials_32ec1f0398634e35bbfa6b37fec2e635(container, filename):\n",
    "    \"\"\"This functions returns a StringIO object containing\n",
    "    the file content from Bluemix Object Storage.\"\"\"\n",
    "\n",
    "    url1 = ''.join(['https://identity.open.softlayer.com', '/v3/auth/tokens'])\n",
    "    data = {'auth': {'identity': {'methods': ['password'],\n",
    "            'password': {'user': {'name': 'member_db257ebff076e5af1f80ab731e6fd39ee8564add','domain': {'id': 'e804d8bdc63a4706b779dbd2f16ecde3'},\n",
    "            'password': 'GMljd7(Yq!eGC819'}}}}}\n",
    "    headers1 = {'Content-Type': 'application/json'}\n",
    "    resp1 = requests.post(url=url1, data=json.dumps(data), headers=headers1)\n",
    "    resp1_body = resp1.json()\n",
    "    for e1 in resp1_body['token']['catalog']:\n",
    "        if(e1['type']=='object-store'):\n",
    "            for e2 in e1['endpoints']:\n",
    "                        if(e2['interface']=='public'and e2['region']=='dallas'):\n",
    "                            url2 = ''.join([e2['url'],'/', container, '/', filename])\n",
    "    s_subject_token = resp1.headers['x-subject-token']\n",
    "    headers2 = {'X-Auth-Token': s_subject_token, 'accept': 'application/json'}\n",
    "    resp2 = requests.get(url=url2, headers=headers2)\n",
    "    return StringIO(resp2.text)\n",
    "\n",
    "data_1 = get_object_storage_file_with_credentials_32ec1f0398634e35bbfa6b37fec2e635('execise1', 'esr.csv')\n",
    "\n",
    " \n"
   ]
  },
  {
   "cell_type": "markdown",
   "metadata": {},
   "source": [
    "Στο dataset δεν υπάρχουν απουσάζουσες τιμές. Όπως προαναφέραμε, η πρώτη γραμμή του dataset είναι οι επικεφαλίδες των στηλών, άρα θα πρέπει να την παραλέιψουμε.Επίσης, θα πρέπει να αγνοήσουμε και την 1η στήλη. Στη συνέχεια τυπώνουμε το πλήθος των δειγμάτων που ανήκουν σε κάθεμια από τις 5 κλάσεις και το ποσοστό της κάθε κλάσης επί του συνόλου:"
   ]
  },
  {
   "cell_type": "code",
   "execution_count": 291,
   "metadata": {},
   "outputs": [
    {
     "name": "stdout",
     "output_type": "stream",
     "text": [
      "frequencies: [   0 2300 2300 2300 2300 2300]\n",
      "percentage: [  0.  20.  20.  20.  20.  20.]\n"
     ]
    }
   ],
   "source": [
    "dataset = pd.read_csv(data_1, header=None)\n",
    "data=dataset.drop(dataset.index[0])\n",
    "\n",
    "# Organize our data\n",
    "labels_df = data.iloc[:, [179]]\n",
    "features_df = data.iloc[:, 1:178]\n",
    "# μετατρέπουμε το dataframe σε numpy array\n",
    "np_features = features_df.values\n",
    "# μετατρέπουμε το dataframe σε μονοδιάστατο array\n",
    "np_labels1 = labels_df.values.flatten()\n",
    "np_labels=  np_labels1.astype(int)\n",
    "print \"frequencies:\", numpy.bincount(np_labels)\n",
    "print \"percentage:\", numpy.bincount(np_labels)*100.0/np_labels.shape"
   ]
  },
  {
   "cell_type": "markdown",
   "metadata": {},
   "source": [
    "Όπως αναφέρεται και στην περιγραφή του dataset, μόνο τα δείγματα που ανήκουν στην κλάση 1 έχουν επιληπτική κρίση. Συνεπώς, μπορούμε να ορίσουμε 2 νέα labels: **0** και **1**, όπου το 0 θα περιλαμβάνει τα δείγματα χωρίς επιληπτική κρίση(δηλαδή τις κλάσεις 2,3,4,5) και το 1 θα περιλαμβάνει τα δείγματα με επιληπτική κρίση(κλάση 1). Στη συνέχεια τυπώνουμε το πλήθος των δειγμάτων που ανήκουν σε κάθε μια από τις 2 νέες κλάσεις και το ποσοστό της κάθε κλάσης επί του συνόλου:"
   ]
  },
  {
   "cell_type": "code",
   "execution_count": 292,
   "metadata": {},
   "outputs": [
    {
     "name": "stdout",
     "output_type": "stream",
     "text": [
      "frequencies: [9200 2300]\n",
      "percentage: [ 80.  20.]\n"
     ]
    }
   ],
   "source": [
    "mapping={'1':1, 1:1, '2':0, 2:0, '3':0, 3:0, '4':0, 4:0, '5':0, 5:0}\n",
    "labels_df = labels_df.replace(mapping)\n",
    "\n",
    "# μετατρέπουμε το dataframe σε μονοδιάστατο array\n",
    "np_labels1 = labels_df.values.flatten()\n",
    "np_labels=  np_labels1.astype(int)\n",
    "print \"frequencies:\", numpy.bincount(np_labels)\n",
    "print \"percentage:\", numpy.bincount(np_labels)*100.0/np_labels.shape"
   ]
  },
  {
   "cell_type": "markdown",
   "metadata": {},
   "source": [
    "Βλέπουμε λοιπόν ότι ο λόγος των κλάσεων είναι 4:1, συνεπώς το δείγμα είναι μη ισορροπημένο. Στη συνέχεια, θα χωρίσουμε το δείγμα μας σε training και test set(30%) αντίστοιχα."
   ]
  },
  {
   "cell_type": "code",
   "execution_count": 296,
   "metadata": {},
   "outputs": [
    {
     "name": "stdout",
     "output_type": "stream",
     "text": [
      "(8050, 177)\n",
      "(8050,)\n",
      "(3450, 177)\n",
      "(3450,)\n"
     ]
    }
   ],
   "source": [
    "from sklearn.model_selection import train_test_split\n",
    "\n",
    "#split dataset\n",
    "train, test, train_labels, test_labels = train_test_split(features_df, np_labels, test_size=0.3)\n",
    "print train.shape\n",
    "print train_labels.shape\n",
    "print test.shape\n",
    "print test_labels.shape"
   ]
  },
  {
   "cell_type": "markdown",
   "metadata": {},
   "source": [
    "## 2.Baseline Classification"
   ]
  },
  {
   "cell_type": "markdown",
   "metadata": {},
   "source": [
    "Αρχικά, θα εκπαιδεύσουμε dummy classifiers, τον Gaussian Naives Bayes, έναν knn classifier και έναν MLP με default τιμές. Θα χρησιμοποιήσουμε το test set που έχουμε ορίσει. Τα αποτελέσματα για τις μετρικές f1-macro και f1-weighted παρουσιάζονται και με τη μορφή διαγραμμάτων:"
   ]
  },
  {
   "cell_type": "code",
   "execution_count": 297,
   "metadata": {},
   "outputs": [
    {
     "name": "stdout",
     "output_type": "stream",
     "text": [
      "Uniform classifier \n",
      "[[1408 1374]\n",
      " [ 340  328]]\n",
      "             precision    recall  f1-score   support\n",
      "\n",
      "          0       0.81      0.51      0.62      2782\n",
      "          1       0.19      0.49      0.28       668\n",
      "\n",
      "avg / total       0.69      0.50      0.55      3450\n",
      "\n",
      "Constant_0 classifier \n",
      "[[2782    0]\n",
      " [ 668    0]]\n",
      "             precision    recall  f1-score   support\n",
      "\n",
      "          0       0.81      1.00      0.89      2782\n",
      "          1       0.00      0.00      0.00       668\n",
      "\n",
      "avg / total       0.65      0.81      0.72      3450\n",
      "\n",
      "Constant_1 classifier \n",
      "[[   0 2782]\n",
      " [   0  668]]\n",
      "             precision    recall  f1-score   support\n",
      "\n",
      "          0       0.00      0.00      0.00      2782\n",
      "          1       0.19      1.00      0.32       668\n",
      "\n",
      "avg / total       0.04      0.19      0.06      3450\n",
      "\n",
      "Most Frequent Label Classifier \n",
      "[[2782    0]\n",
      " [ 668    0]]\n",
      "             precision    recall  f1-score   support\n",
      "\n",
      "          0       0.81      1.00      0.89      2782\n",
      "          1       0.00      0.00      0.00       668\n",
      "\n",
      "avg / total       0.65      0.81      0.72      3450\n",
      "\n",
      "Stratified \n",
      "[[2222  560]\n",
      " [ 527  141]]\n",
      "             precision    recall  f1-score   support\n",
      "\n",
      "          0       0.81      0.80      0.80      2782\n",
      "          1       0.20      0.21      0.21       668\n",
      "\n",
      "avg / total       0.69      0.68      0.69      3450\n",
      "\n"
     ]
    }
   ],
   "source": [
    "from sklearn.model_selection import cross_val_score\n",
    "from sklearn.model_selection import KFold\n",
    "import matplotlib.pyplot as plt\n",
    "from sklearn.metrics import confusion_matrix\n",
    "from sklearn.metrics import precision_recall_fscore_support\n",
    "\n",
    "esr_predictions={}\n",
    "esr_macro={}\n",
    "esr_weighted={}\n",
    "\n",
    "#dummy classifiers\n",
    "from sklearn.dummy import DummyClassifier\n",
    "dc_uniform = DummyClassifier(strategy=\"uniform\")\n",
    "dc_constant_0 = DummyClassifier(strategy=\"constant\", constant=0)\n",
    "dc_constant_1 = DummyClassifier(strategy=\"constant\", constant=1)\n",
    "dc_most_frequent = DummyClassifier(strategy=\"most_frequent\")\n",
    "dc_stratified = DummyClassifier(strategy=\"stratified\")\n",
    "\n",
    "#train and test dummy classifiers\n",
    "model = dc_uniform.fit(train, train_labels)\n",
    "esr_predictions['uniform']= dc_uniform.predict(test)\n",
    "print(\"Uniform classifier \")\n",
    "print(confusion_matrix(test_labels,esr_predictions['uniform']))\n",
    "esr_macro['uniform']=precision_recall_fscore_support(test_labels,esr_predictions['uniform'],average='macro')\n",
    "esr_weighted['uniform']=precision_recall_fscore_support(test_labels,esr_predictions['uniform'],average='weighted')\n",
    "print classification_report(test_labels, esr_predictions['uniform'])\n",
    "\n",
    "\n",
    "model = dc_constant_0.fit(train, train_labels)\n",
    "esr_predictions['constant 0']=dc_constant_0.predict(test)\n",
    "print(\"Constant_0 classifier \")\n",
    "print(confusion_matrix(test_labels,esr_predictions['constant 0']))\n",
    "esr_macro['constant 0']=precision_recall_fscore_support(test_labels,esr_predictions['constant 0'],average='macro')\n",
    "esr_weighted['constant 0']=precision_recall_fscore_support(test_labels,esr_predictions['constant 0'],average='weighted')\n",
    "print classification_report(test_labels, esr_predictions['constant 0'])\n",
    "\n",
    "\n",
    "model = dc_constant_1.fit(train, train_labels)\n",
    "esr_predictions['constant 1']=dc_constant_1.predict(test)\n",
    "print(\"Constant_1 classifier \")\n",
    "print(confusion_matrix(test_labels,esr_predictions['constant 1']))\n",
    "esr_macro['constant 1']=precision_recall_fscore_support(test_labels,esr_predictions['constant 1'],average='macro')\n",
    "esr_weighted['constant 1']=precision_recall_fscore_support(test_labels,esr_predictions['constant 1'],average='weighted')\n",
    "print classification_report(test_labels, esr_predictions['constant 1'])\n",
    "\n",
    "\n",
    "model = dc_most_frequent.fit(train, train_labels)\n",
    "esr_predictions['most frequent label']=dc_most_frequent.predict(test)\n",
    "print(\"Most Frequent Label Classifier \")\n",
    "print(confusion_matrix(test_labels,esr_predictions['most frequent label']))\n",
    "esr_macro['most frequent label']=precision_recall_fscore_support(test_labels,esr_predictions['most frequent label'],average='macro')\n",
    "esr_weighted['most frequent label']=precision_recall_fscore_support(test_labels,esr_predictions['most frequent label'],average='weighted')\n",
    "print classification_report(test_labels, esr_predictions['most frequent label'])\n",
    "\n",
    "\n",
    "model = dc_stratified.fit(train, train_labels)\n",
    "esr_predictions['stratified']=dc_stratified.predict(test)\n",
    "print(\"Stratified \")\n",
    "print(confusion_matrix(test_labels,esr_predictions['stratified']))\n",
    "esr_macro['stratified']=precision_recall_fscore_support(test_labels,esr_predictions['stratified'],average='macro')\n",
    "esr_weighted['stratified']=precision_recall_fscore_support(test_labels,esr_predictions['stratified'],average='weighted')\n",
    "print classification_report(test_labels, esr_predictions['stratified'])\n"
   ]
  },
  {
   "cell_type": "code",
   "execution_count": 298,
   "metadata": {},
   "outputs": [
    {
     "name": "stdout",
     "output_type": "stream",
     "text": [
      "Gaussian Naive Bayes \n",
      "[[2712   70]\n",
      " [  79  589]]\n",
      "             precision    recall  f1-score   support\n",
      "\n",
      "          0       0.97      0.97      0.97      2782\n",
      "          1       0.89      0.88      0.89       668\n",
      "\n",
      "avg / total       0.96      0.96      0.96      3450\n",
      "\n"
     ]
    }
   ],
   "source": [
    "#gaussian naives bayes\n",
    "from sklearn.naive_bayes import GaussianNB\n",
    "gnb = GaussianNB()\n",
    "model = gnb.fit(train, train_labels)\n",
    "esr_predictions['gaussian naive bayes'] = gnb.predict(test)\n",
    "\n",
    "print(\"Gaussian Naive Bayes \")\n",
    "print(confusion_matrix(test_labels,esr_predictions['gaussian naive bayes']))\n",
    "\n",
    "esr_macro['gaussian naive bayes']=precision_recall_fscore_support(test_labels,esr_predictions['gaussian naive bayes'],average='macro')\n",
    "esr_weighted['gaussian naive bayes']=precision_recall_fscore_support(test_labels,esr_predictions['gaussian naive bayes'],average='weighted')\n",
    "print classification_report(test_labels, esr_predictions['gaussian naive bayes'])\n"
   ]
  },
  {
   "cell_type": "code",
   "execution_count": 300,
   "metadata": {},
   "outputs": [
    {
     "name": "stdout",
     "output_type": "stream",
     "text": [
      "Knn \n",
      "[[2777    5]\n",
      " [ 268  400]]\n",
      "             precision    recall  f1-score   support\n",
      "\n",
      "          0       0.91      1.00      0.95      2782\n",
      "          1       0.99      0.60      0.75       668\n",
      "\n",
      "avg / total       0.93      0.92      0.91      3450\n",
      "\n"
     ]
    }
   ],
   "source": [
    "#Knn Classifier\n",
    "from sklearn.neighbors import KNeighborsClassifier\n",
    "knn = KNeighborsClassifier() #by default neighbors=5\n",
    "\n",
    "model = knn.fit(train, train_labels)\n",
    "esr_predictions['Knn'] = knn.predict(test)\n",
    "\n",
    "print(\"Knn \")\n",
    "print(confusion_matrix(test_labels,esr_predictions['Knn']))\n",
    "\n",
    "esr_macro['Knn']=precision_recall_fscore_support(test_labels,esr_predictions['Knn'],average='macro')\n",
    "esr_weighted['Knn']=precision_recall_fscore_support(test_labels,esr_predictions['Knn'],average='weighted')\n",
    "print classification_report(test_labels, esr_predictions['Knn'])"
   ]
  },
  {
   "cell_type": "code",
   "execution_count": 302,
   "metadata": {},
   "outputs": [
    {
     "name": "stdout",
     "output_type": "stream",
     "text": [
      "MLP \n",
      "[[2294  488]\n",
      " [ 157  511]]\n",
      "             precision    recall  f1-score   support\n",
      "\n",
      "          0       0.94      0.82      0.88      2782\n",
      "          1       0.51      0.76      0.61       668\n",
      "\n",
      "avg / total       0.85      0.81      0.83      3450\n",
      "\n"
     ]
    }
   ],
   "source": [
    "#MLP Classifier\n",
    "from sklearn.neural_network import MLPClassifier\n",
    "\n",
    "model = clf.fit(train, train_labels)\n",
    "esr_predictions['mlp']=clf.predict(test)\n",
    "print(\"MLP \")\n",
    "print(confusion_matrix(test_labels,esr_predictions['mlp']))\n",
    "\n",
    "esr_macro['mlp']=precision_recall_fscore_support(test_labels,esr_predictions['mlp'],average='macro')\n",
    "esr_weighted['mlp']=precision_recall_fscore_support(test_labels,esr_predictions['mlp'],average='weighted')\n",
    "print classification_report(test_labels, esr_predictions['mlp'])"
   ]
  },
  {
   "cell_type": "code",
   "execution_count": 305,
   "metadata": {},
   "outputs": [
    {
     "name": "stdout",
     "output_type": "stream",
     "text": [
      "\n",
      "Results of f1-weighted average on the Epileptic Seizure Recognition Dataset\n",
      "\n",
      "constant 1: (0.037489939088426801, 0.19362318840579709, 0.062817042183133789, None)\n",
      "uniform: (0.68684405029843298, 0.50318840579710145, 0.55486447471209488, None)\n",
      "stratified: (0.69073508378031279, 0.68492753623188407, 0.68778505678300672, None)\n",
      "constant 0: (0.65024356227683267, 0.80637681159420294, 0.71994232665438784, None)\n",
      "most frequent label: (0.65024356227683267, 0.80637681159420294, 0.71994232665438784, None)\n",
      "mlp: (0.85376444153873055, 0.81304347826086953, 0.82569182089935667, None)\n",
      "Knn: (0.92663783804746647, 0.92086956521739127, 0.91295761142661624, None)\n",
      "gaussian naive bayes: (0.95660833433975878, 0.95681159420289852, 0.95670001077191646, None)\n",
      "\n",
      "Results of f1-macro average on the Epileptic Seizure Recognition Dataset\n",
      "\n",
      "constant 1: (0.096811594202898546, 0.5, 0.1622146673142302, None)\n",
      "constant 0: (0.40318840579710147, 0.5, 0.44640564826700901, None)\n",
      "most frequent label: (0.40318840579710147, 0.5, 0.44640564826700901, None)\n",
      "uniform: (0.49910322221535036, 0.4985643378950223, 0.44921340151451644, None)\n",
      "stratified: (0.50471757594124489, 0.50489190562082165, 0.50473055844744652, None)\n",
      "mlp: (0.72372801197770598, 0.79477834410259285, 0.74491056308134507, None)\n",
      "Knn: (0.94982059234932792, 0.79850256352858628, 0.84936114635551863, None)\n",
      "gaussian naive bayes: (0.93273659263544384, 0.92828738640619557, 0.93049030265013077, None)\n"
     ]
    },
    {
     "data": {
      "image/png": "[encoded data removed]",
      "text/plain": [
       "<matplotlib.figure.Figure at 0x7f9d94303fd0>"
      ]
     },
     "metadata": {},
     "output_type": "display_data"
    },
    {
     "data": {
      "image/png": "[encoded data removed]",
      "text/plain": [
       "<matplotlib.figure.Figure at 0x7f9daac1f510>"
      ]
     },
     "metadata": {},
     "output_type": "display_data"
    }
   ],
   "source": [
    "#print results\n",
    "B=[]\n",
    "S1=[]\n",
    "print \"\\nResults of f1-weighted average on the Epileptic Seizure Recognition Dataset\\n\"\n",
    "for key, value in sorted(esr_weighted.iteritems(), key=lambda (k,v): (v[2],k)):\n",
    "   print \"%s: %s\" % (key, value)\n",
    "   B.append(value[2])\n",
    "   S1.append(key)\n",
    "    \n",
    "C=[]\n",
    "S2=[]\n",
    "print \"\\nResults of f1-macro average on the Epileptic Seizure Recognition Dataset\\n\"\n",
    "for key, value in sorted(esr_macro.iteritems(), key=lambda (k,v): (v[2],k)):\n",
    "   print \"%s: %s\" % (key, value)\n",
    "   C.append(value[2])\n",
    "   S2.append(key)\n",
    "     \n",
    "#plot f1-weighted\n",
    "fig= plt.figure(facecolor=\"white\")\n",
    "ax = fig.add_subplot(1,1,1)\n",
    "bar_width=0.5\n",
    "bar_l = numpy.arange(1,9)\n",
    "tick_pos = [i + (0.05 / 8) for i in bar_l]\n",
    "\n",
    "ax1 = ax.barh(bar_l,B,height=bar_width,color='darkred',align='center')\n",
    "ax.set_xlabel(\"F1-Weighted\", fontsize=18)\n",
    "ax.set_ylabel(\"Classifier\", fontsize=18)\n",
    "ax.legend(loc=\"best\")\n",
    "plt.yticks(tick_pos,S1, fontsize=10)\n",
    "plt.xticks(fontsize=16)\n",
    "plt.show()\n",
    "\n",
    "#plot f1-macro\n",
    "fig= plt.figure(facecolor=\"white\")\n",
    "ax = fig.add_subplot(1,1,1)\n",
    "bar_width=0.5\n",
    "bar_l = numpy.arange(1,9)\n",
    "tick_pos = [i + (0.05 / 8) for i in bar_l]\n",
    "\n",
    "ax1 = ax.barh(bar_l,C,height=bar_width,color='darkgreen',align='center')\n",
    "ax.set_xlabel(\"F1-Macro\", fontsize=18)\n",
    "ax.set_ylabel(\"Classifier\", fontsize=18)\n",
    "ax.legend(loc=\"best\")\n",
    "plt.yticks(tick_pos,S2, fontsize=10)\n",
    "plt.xticks(fontsize=16)\n",
    "plt.show()"
   ]
  },
  {
   "cell_type": "markdown",
   "metadata": {},
   "source": [
    "Από τα παραπάνω διαγράμματα παρατηρούμε ότι ο gaussian naive bayes έχει την καλύτερη απόδοση, και στις 2 μετρικές, ενώ ο mlp για τις default παραμέτρους, παρουσιάζει μέτρια απόδοση. Δεύτερος έρχεται ο Κnn με τον default αριθμό γειτόνων. Από τους dummy classifiers, αυτός με τη χειρότερη απόδοση είναι ο constant 1, ενώ οι υπόλοιποι παρουσιάζουν παρόμοια συμπεριφορά."
   ]
  },
  {
   "cell_type": "markdown",
   "metadata": {},
   "source": [
    "## 3.Βελτιστοποίηση Ταξινομητών"
   ]
  },
  {
   "cell_type": "markdown",
   "metadata": {},
   "source": [
    "Σε αυτό το τμήμα της άσκησης, θα προσπαθήσουμε να βελτιώσουμε την απόδοσή των Classifiers στο training set μέσω της διαδικασίας\n",
    "προεπεξεργασίας και εύρεσης βέλτιστων υπερπαραμέτρων. Για το σκοπό αυτό, θα χρησιμοποιήσουμε τις τεχνικές του pipeline και του gridsearchv. H αναζήτηση των βέλτιστων παραμέτρων των μετασχηματιστών και των βέλτιστων υπερπαραμέτρων των εκτιμητών θα γίνει με την τεχνική 5-fold cross-validation. Όσον αφορά το κομμάτι της προεπεξεργασίας, θα χρησιμοποιήσουμε την τεχνική **OverSampling** για την εξισρρόπηση του δείγματος, την τεχνική **PCA** για την ανάλυση σε κύριες συνιστώσες,ένα κατώφλι **Variance Threshold** για την επιλογή χαρακτηριστικών."
   ]
  },
  {
   "cell_type": "code",
   "execution_count": 307,
   "metadata": {},
   "outputs": [],
   "source": [
    "from imblearn.pipeline import Pipeline\n",
    "\n",
    "from sklearn.feature_selection import VarianceThreshold\n",
    "from sklearn.preprocessing import StandardScaler \n",
    "from imblearn.over_sampling import RandomOverSampler\n",
    "from sklearn.decomposition import PCA\n",
    "\n",
    "selector = VarianceThreshold()\n",
    "scaler = StandardScaler()\n",
    "ros = RandomOverSampler()\n",
    "pca = PCA()\n",
    "\n",
    "from sklearn.model_selection import GridSearchCV\n",
    "vthreshold = [0,0.1] #scaler\n",
    "n_components = [20,30,40] #pca final features"
   ]
  },
  {
   "cell_type": "markdown",
   "metadata": {},
   "source": [
    "Επειδή το μέγεθος του dataset είναι πολύ μεγάλο(ειδικά για τον knn και τον mlp), θα δουλέψουμε με λιγότερα δείγματα. Το ανακατεύουμε και παίρνουμε ένα μικρό αριθμό samples"
   ]
  },
  {
   "cell_type": "code",
   "execution_count": 309,
   "metadata": {},
   "outputs": [
    {
     "name": "stdout",
     "output_type": "stream",
     "text": [
      "(1000,)\n"
     ]
    }
   ],
   "source": [
    "from sklearn.utils import shuffle\n",
    "sdata = shuffle(dataset, random_state=341976)\n",
    "samples = 1000\n",
    "labels_df = sdata.iloc[0:samples, [179]]\n",
    "features_df = sdata.iloc[0:samples, 1:178]\n",
    "# μετατρέπουμε το dataframe σε numpy array\n",
    "np_features = features_df.values\n",
    "# μετατρέπουμε το dataframe σε μονοδιάστατο array\n",
    "np_labels1 = labels_df.values.flatten()\n",
    "np_labels=  np_labels1.astype(int)\n",
    "print np_labels.shape"
   ]
  },
  {
   "cell_type": "markdown",
   "metadata": {},
   "source": [
    "Κάνουμε πάλι μετατροπή κλάσεων και τυπώνουμε τις αντίστοιχες συχνότητες, από τις οποίες βλέπουμε πάλι ότι το δείγμα είναι μη ισορροπημένο:"
   ]
  },
  {
   "cell_type": "code",
   "execution_count": 310,
   "metadata": {},
   "outputs": [
    {
     "name": "stdout",
     "output_type": "stream",
     "text": [
      "(1000,)\n",
      "frequencies: [806 194]\n",
      "percentage: [ 80.6  19.4]\n"
     ]
    }
   ],
   "source": [
    "mapping={'1':1, 1:1, '2':0, 2:0, '3':0, 3:0, '4':0, 4:0, '5':0, 5:0}\n",
    "labels_df = labels_df.replace(mapping)\n",
    "\n",
    "np_labels1 = labels_df.values.flatten()\n",
    "np_labels=  np_labels1.astype(int)\n",
    "print np_labels.shape\n",
    "print \"frequencies:\", numpy.bincount(np_labels)\n",
    "print \"percentage:\", numpy.bincount(np_labels)*100.0/np_labels.shape"
   ]
  },
  {
   "cell_type": "markdown",
   "metadata": {},
   "source": [
    "Χωρίζουμε και πάλι το δείγμα σε train και test set και επιβεβαιώνουμε ότι οι διαστάσεις τους είναι εντάξει."
   ]
  },
  {
   "cell_type": "code",
   "execution_count": 311,
   "metadata": {},
   "outputs": [
    {
     "name": "stdout",
     "output_type": "stream",
     "text": [
      "(700, 177)\n",
      "(700,)\n",
      "(300, 177)\n",
      "(300,)\n"
     ]
    }
   ],
   "source": [
    "train, test, train_labels, test_labels = train_test_split(features_df, np_labels, test_size=0.3)\n",
    "print train.shape\n",
    "print train_labels.shape\n",
    "print test.shape\n",
    "print test_labels.shape"
   ]
  },
  {
   "cell_type": "markdown",
   "metadata": {},
   "source": [
    "Για τους  dummy classifiers  και τον Gaussinan Naive Bayes δεν χρειάζεται να κάνουμε αναζήτηση υπερπαραμέτρων:"
   ]
  },
  {
   "cell_type": "code",
   "execution_count": 313,
   "metadata": {},
   "outputs": [
    {
     "name": "stdout",
     "output_type": "stream",
     "text": [
      "Uniform classifier with gridsearcv at f1-macro \n",
      "[[121 124]\n",
      " [ 26  29]]\n",
      "             precision    recall  f1-score   support\n",
      "\n",
      "          0       0.82      0.49      0.62       245\n",
      "          1       0.19      0.53      0.28        55\n",
      "\n",
      "avg / total       0.71      0.50      0.56       300\n",
      "\n",
      "Uniform classifier with gridsearcv at f1-weighted \n",
      "[[114 131]\n",
      " [ 29  26]]\n",
      "             precision    recall  f1-score   support\n",
      "\n",
      "          0       0.82      0.49      0.62       245\n",
      "          1       0.19      0.53      0.28        55\n",
      "\n",
      "avg / total       0.71      0.50      0.56       300\n",
      "\n",
      "Constant 0 Classifier with gridsearchv at f1-macro \n",
      "[[245   0]\n",
      " [ 55   0]]\n",
      "             precision    recall  f1-score   support\n",
      "\n",
      "          0       0.82      1.00      0.90       245\n",
      "          1       0.00      0.00      0.00        55\n",
      "\n",
      "avg / total       0.67      0.82      0.73       300\n",
      "\n",
      "Constant 0 Classifier with gridsearchv at f1-weighted \n",
      "[[245   0]\n",
      " [ 55   0]]\n",
      "             precision    recall  f1-score   support\n",
      "\n",
      "          0       0.82      1.00      0.90       245\n",
      "          1       0.00      0.00      0.00        55\n",
      "\n",
      "avg / total       0.67      0.82      0.73       300\n",
      "\n",
      "Constant 1 Classifier with gridsearchv at f1-macro  \n",
      "[[  0 245]\n",
      " [  0  55]]\n",
      "             precision    recall  f1-score   support\n",
      "\n",
      "          0       0.00      0.00      0.00       245\n",
      "          1       0.18      1.00      0.31        55\n",
      "\n",
      "avg / total       0.03      0.18      0.06       300\n",
      "\n",
      "Constant 1 Classifier with gridsearchv at f1-weighted  \n",
      "[[  0 245]\n",
      " [  0  55]]\n",
      "             precision    recall  f1-score   support\n",
      "\n",
      "          0       0.00      0.00      0.00       245\n",
      "          1       0.18      1.00      0.31        55\n",
      "\n",
      "avg / total       0.03      0.18      0.06       300\n",
      "\n",
      "Most frequent Label Classifier with gridsearchv at f1-macro \n",
      "[[245   0]\n",
      " [ 55   0]]\n",
      "             precision    recall  f1-score   support\n",
      "\n",
      "          0       0.82      1.00      0.90       245\n",
      "          1       0.00      0.00      0.00        55\n",
      "\n",
      "avg / total       0.67      0.82      0.73       300\n",
      "\n",
      "Most frequent Label Classifier with gridsearchv at f1-weighted \n",
      "[[245   0]\n",
      " [ 55   0]]\n",
      "             precision    recall  f1-score   support\n",
      "\n",
      "          0       0.82      1.00      0.90       245\n",
      "          1       0.00      0.00      0.00        55\n",
      "\n",
      "avg / total       0.67      0.82      0.73       300\n",
      "\n",
      "Stratified classifier with gridsearchv at f1-macro \n",
      "[[132 113]\n",
      " [ 29  26]]\n",
      "             precision    recall  f1-score   support\n",
      "\n",
      "          0       0.82      0.54      0.65       245\n",
      "          1       0.19      0.47      0.27        55\n",
      "\n",
      "avg / total       0.70      0.53      0.58       300\n",
      "\n",
      "Stratified classifier with gridsearchv at f1-weighted \n",
      "[[135 110]\n",
      " [ 19  36]]\n",
      "             precision    recall  f1-score   support\n",
      "\n",
      "          0       0.88      0.55      0.68       245\n",
      "          1       0.25      0.65      0.36        55\n",
      "\n",
      "avg / total       0.76      0.57      0.62       300\n",
      "\n"
     ]
    }
   ],
   "source": [
    "esr_predictions_opt={}\n",
    "esr_macro_opt={}\n",
    "esr_weighted_opt={}\n",
    "\n",
    "#dummy classifiers\n",
    "from sklearn.dummy import DummyClassifier\n",
    "dc_uniform = DummyClassifier(strategy=\"uniform\")\n",
    "dc_constant_0 = DummyClassifier(strategy=\"constant\", constant=0)\n",
    "dc_constant_1 = DummyClassifier(strategy=\"constant\", constant=1)\n",
    "dc_most_frequent = DummyClassifier(strategy=\"most_frequent\")\n",
    "dc_stratified = DummyClassifier(strategy=\"stratified\")\n",
    "\n",
    "##uniform\n",
    "pipe = Pipeline(steps=[('selector', selector), ('scaler', scaler), ('sampler', ros), ('pca', pca), ('uniform', dc_uniform)], memory = 'tmp')\n",
    "estimator1 = GridSearchCV(pipe, dict(selector__threshold=vthreshold, pca__n_components=n_components), cv=5, scoring='f1_macro', n_jobs=1)\n",
    "estimator1.fit(train, train_labels)\n",
    "esr_predictions_opt['uniform_macro'] = estimator1.predict(test)\n",
    "print(\"Uniform classifier with gridsearcv at f1-macro \")\n",
    "print(confusion_matrix(test_labels,esr_predictions_opt['uniform_macro']))\n",
    "print classification_report(test_labels, esr_predictions_opt['uniform_macro'])\n",
    "esr_macro_opt['uniform_macro']=precision_recall_fscore_support(test_labels,esr_predictions_opt['uniform_macro'],average='macro')\n",
    "esr_weighted_opt['uniform_macro']=precision_recall_fscore_support(test_labels,esr_predictions_opt['uniform_macro'],average='weighted')\n",
    "\n",
    "dc_uniform = DummyClassifier(strategy=\"uniform\")\n",
    "pipe = Pipeline(steps=[('selector', selector), ('scaler', scaler), ('sampler', ros), ('pca', pca), ('uniform', dc_uniform)], memory = 'tmp')\n",
    "estimator1 = GridSearchCV(pipe, dict(selector__threshold=vthreshold, pca__n_components=n_components), cv=5, scoring='f1_weighted', n_jobs=1)\n",
    "estimator1.fit(train, train_labels)\n",
    "esr_predictions_opt['uniform_weighted'] = estimator1.predict(test)\n",
    "print(\"Uniform classifier with gridsearcv at f1-weighted \")\n",
    "print(confusion_matrix(test_labels,esr_predictions_opt['uniform_weighted']))\n",
    "print classification_report(test_labels, esr_predictions_opt['uniform_macro'])\n",
    "esr_macro_opt['uniform_weighted']=precision_recall_fscore_support(test_labels,esr_predictions_opt['uniform_weighted'],average='macro')\n",
    "esr_weighted_opt['uniform_weighted']=precision_recall_fscore_support(test_labels,esr_predictions_opt['uniform_weighted'],average='weighted')\n",
    "\n",
    "##constant 0 \n",
    "pipe = Pipeline(steps=[('selector', selector), ('scaler', scaler), ('sampler', ros), ('pca', pca), ('constant_0', dc_constant_0)], memory = 'tmp')\n",
    "estimator = GridSearchCV(pipe, dict(selector__threshold=vthreshold, pca__n_components=n_components), cv=5, scoring='f1_macro', n_jobs=1)\n",
    "estimator.fit(train, train_labels)\n",
    "esr_predictions_opt['constant 0_macro'] = estimator.predict(test)\n",
    "print(\"Constant 0 Classifier with gridsearchv at f1-macro \")\n",
    "print(confusion_matrix(test_labels,esr_predictions_opt['constant 0_macro']))\n",
    "print classification_report(test_labels, esr_predictions_opt['constant 0_macro'])\n",
    "esr_macro_opt['constant 0_macro']=precision_recall_fscore_support(test_labels,esr_predictions_opt['constant 0_macro'],average='macro')\n",
    "esr_weighted_opt['constant 0_macro']=precision_recall_fscore_support(test_labels,esr_predictions_opt['constant 0_macro'],average='weighted')\n",
    "\n",
    "dc_constant_0 = DummyClassifier(strategy=\"constant\", constant=0)\n",
    "pipe = Pipeline(steps=[('selector', selector), ('scaler', scaler), ('sampler', ros), ('pca', pca), ('constant_0', dc_constant_0)], memory = 'tmp')\n",
    "estimator = GridSearchCV(pipe, dict(selector__threshold=vthreshold, pca__n_components=n_components), cv=5, scoring='f1_weighted', n_jobs=1)\n",
    "estimator.fit(train, train_labels)\n",
    "esr_predictions_opt['constant 0_weighted'] = estimator.predict(test)\n",
    "print(\"Constant 0 Classifier with gridsearchv at f1-weighted \")\n",
    "print(confusion_matrix(test_labels,esr_predictions_opt['constant 0_weighted']))\n",
    "print classification_report(test_labels, esr_predictions_opt['constant 0_weighted'])\n",
    "esr_macro_opt['constant 0_weighted']=precision_recall_fscore_support(test_labels,esr_predictions_opt['constant 0_weighted'],average='macro')\n",
    "esr_weighted_opt['constant 0_weighted']=precision_recall_fscore_support(test_labels,esr_predictions_opt['constant 0_weighted'],average='weighted')\n",
    "\n",
    "##constant 1\n",
    "pipe = Pipeline(steps=[('selector', selector), ('scaler', scaler), ('sampler', ros), ('pca', pca), ('constant_1', dc_constant_1)], memory = 'tmp')\n",
    "estimator = GridSearchCV(pipe, dict(selector__threshold=vthreshold, pca__n_components=n_components), cv=5, scoring='f1_macro', n_jobs=1)\n",
    "estimator.fit(train, train_labels)\n",
    "esr_predictions_opt['constant 1_macro'] = estimator.predict(test)\n",
    "print(\"Constant 1 Classifier with gridsearchv at f1-macro  \")\n",
    "print(confusion_matrix(test_labels,esr_predictions_opt['constant 1_macro']))\n",
    "print classification_report(test_labels, esr_predictions_opt['constant 1_macro'])\n",
    "esr_macro_opt['constant 1_macro']=precision_recall_fscore_support(test_labels,esr_predictions_opt['constant 1_macro'],average='macro')\n",
    "esr_weighted_opt['constant 1_macro']=precision_recall_fscore_support(test_labels,esr_predictions_opt['constant 1_macro'],average='weighted')\n",
    "\n",
    "dc_constant_0 = DummyClassifier(strategy=\"constant\", constant=1)\n",
    "pipe = Pipeline(steps=[('selector', selector), ('scaler', scaler), ('sampler', ros), ('pca', pca), ('constant_1', dc_constant_1)], memory = 'tmp')\n",
    "estimator = GridSearchCV(pipe, dict(selector__threshold=vthreshold, pca__n_components=n_components), cv=5, scoring='f1_weighted', n_jobs=1)\n",
    "estimator.fit(train, train_labels)\n",
    "esr_predictions_opt['constant 1_weighted'] = estimator.predict(test)\n",
    "print(\"Constant 1 Classifier with gridsearchv at f1-weighted  \")\n",
    "print(confusion_matrix(test_labels,esr_predictions_opt['constant 1_weighted']))\n",
    "print classification_report(test_labels, esr_predictions_opt['constant 1_weighted'])\n",
    "esr_macro_opt['constant 1_weighted']=precision_recall_fscore_support(test_labels,esr_predictions_opt['constant 1_weighted'],average='macro')\n",
    "esr_weighted_opt['constant 1_weighted']=precision_recall_fscore_support(test_labels,esr_predictions_opt['constant 1_weighted'],average='weighted')\n",
    "\n",
    "##most frequent\n",
    "pipe = Pipeline(steps=[('selector', selector), ('scaler', scaler), ('sampler', ros), ('pca', pca), ('most_frequent', dc_most_frequent)], memory = 'tmp')\n",
    "estimator = GridSearchCV(pipe, dict(selector__threshold=vthreshold, pca__n_components=n_components), cv=5, scoring='f1_macro', n_jobs=1)\n",
    "estimator.fit(train, train_labels)\n",
    "esr_predictions_opt['most frequent label_macro'] =estimator.predict(test)\n",
    "print(\"Most frequent Label Classifier with gridsearchv at f1-macro \")\n",
    "print(confusion_matrix(test_labels,esr_predictions_opt['most frequent label_macro']))\n",
    "print classification_report(test_labels, esr_predictions_opt['most frequent label_macro'])\n",
    "esr_macro_opt['most frequent label_macro']=precision_recall_fscore_support(test_labels,esr_predictions_opt['most frequent label_macro'],average='macro')\n",
    "esr_weighted_opt['most frequent label_macro']=precision_recall_fscore_support(test_labels,esr_predictions_opt['most frequent label_macro'],average='weighted')\n",
    "\n",
    "dc_most_frequent = DummyClassifier(strategy=\"most_frequent\")\n",
    "pipe = Pipeline(steps=[('selector', selector), ('scaler', scaler), ('sampler', ros), ('pca', pca), ('most_frequent', dc_most_frequent)], memory = 'tmp')\n",
    "estimator = GridSearchCV(pipe, dict(selector__threshold=vthreshold, pca__n_components=n_components), cv=5, scoring='f1_weighted', n_jobs=1)\n",
    "estimator.fit(train, train_labels)\n",
    "esr_predictions_opt['most frequent label_weighted'] =estimator.predict(test)\n",
    "print(\"Most frequent Label Classifier with gridsearchv at f1-weighted \")\n",
    "print(confusion_matrix(test_labels,esr_predictions_opt['most frequent label_weighted']))\n",
    "print classification_report(test_labels, esr_predictions_opt['most frequent label_weighted'])\n",
    "esr_macro_opt['most frequent label_weighted']=precision_recall_fscore_support(test_labels,esr_predictions_opt['most frequent label_weighted'],average='macro')\n",
    "esr_weighted_opt['most frequent label_weighted']=precision_recall_fscore_support(test_labels,esr_predictions_opt['most frequent label_weighted'],average='weighted')\n",
    "\n",
    "##stratified\n",
    "pipe = Pipeline(steps=[('selector', selector), ('scaler', scaler), ('sampler', ros), ('pca', pca), ('stratified', dc_stratified)], memory = 'tmp')\n",
    "estimator = GridSearchCV(pipe, dict(selector__threshold=vthreshold, pca__n_components=n_components), cv=5, scoring='f1_macro', n_jobs=1)\n",
    "estimator.fit(train, train_labels)\n",
    "esr_predictions_opt['stratified_macro'] = estimator.predict(test)\n",
    "print(\"Stratified classifier with gridsearchv at f1-macro \")\n",
    "print(confusion_matrix(test_labels,esr_predictions_opt['stratified_macro']))\n",
    "print classification_report(test_labels, esr_predictions_opt['stratified_macro'])\n",
    "esr_macro_opt['stratified_macro']=precision_recall_fscore_support(test_labels,esr_predictions_opt['stratified_macro'],average='macro')\n",
    "esr_weighted_opt['stratified_macro']=precision_recall_fscore_support(test_labels,esr_predictions_opt['stratified_macro'],average='weighted')\n",
    "\n",
    "dc_stratified = DummyClassifier(strategy=\"stratified\")\n",
    "pipe = Pipeline(steps=[('selector', selector), ('scaler', scaler), ('sampler', ros), ('pca', pca), ('stratified', dc_stratified)], memory = 'tmp')\n",
    "estimator = GridSearchCV(pipe, dict(selector__threshold=vthreshold, pca__n_components=n_components), cv=5, scoring='f1_weighted', n_jobs=1)\n",
    "estimator.fit(train, train_labels)\n",
    "esr_predictions_opt['stratified_weighted'] = estimator.predict(test)\n",
    "print(\"Stratified classifier with gridsearchv at f1-weighted \")\n",
    "print(confusion_matrix(test_labels,esr_predictions_opt['stratified_weighted']))\n",
    "print classification_report(test_labels, esr_predictions_opt['stratified_weighted'])\n",
    "esr_macro_opt['stratified_weighted']=precision_recall_fscore_support(test_labels,esr_predictions_opt['stratified_weighted'],average='macro')\n",
    "esr_weighted_opt['stratified_weighted']=precision_recall_fscore_support(test_labels,esr_predictions_opt['stratified_weighted'],average='weighted')"
   ]
  },
  {
   "cell_type": "code",
   "execution_count": 322,
   "metadata": {},
   "outputs": [
    {
     "name": "stdout",
     "output_type": "stream",
     "text": [
      "Gaussinan Naives Bayes Classifier with gridsearcv at f1-macro \n",
      "[[242   3]\n",
      " [  6  49]]\n",
      "             precision    recall  f1-score   support\n",
      "\n",
      "          0       0.98      0.99      0.98       245\n",
      "          1       0.94      0.89      0.92        55\n",
      "\n",
      "avg / total       0.97      0.97      0.97       300\n",
      "\n",
      "Training time: 14.2214910984\n",
      "Testing time: 0.0073390007019\n",
      "Pipeline(memory='tmp',\n",
      "     steps=[('selector', VarianceThreshold(threshold=0)), ('scaler', StandardScaler(copy=True, with_mean=True, with_std=True)), ('sampler', RandomOverSampler(random_state=None, ratio='auto')), ('pca', PCA(copy=True, iterated_power='auto', n_components=20, random_state=None,\n",
      "  svd_solver='auto', tol=0.0, whiten=False)), ('kNN', KNeighborsClassifier(algorithm='auto', leaf_size=30, metric='euclidean',\n",
      "           metric_params=None, n_jobs=-1, n_neighbors=3, p=2,\n",
      "           weights='uniform'))])\n",
      "{'pca__n_components': 20, 'kNN__metric': 'euclidean', 'kNN__weights': 'uniform', 'kNN__n_neighbors': 3, 'selector__threshold': 0}\n",
      "\n",
      "Gaussinan Naives Bayes classifier with gridsearcv at f1-weighted \n",
      "[[242   3]\n",
      " [  6  49]]\n",
      "             precision    recall  f1-score   support\n",
      "\n",
      "          0       0.98      0.99      0.98       245\n",
      "          1       0.94      0.89      0.92        55\n",
      "\n",
      "avg / total       0.97      0.97      0.97       300\n",
      "\n",
      "Training time: 14.4376180172\n",
      "Testing time: 0.00657510757446\n",
      "Pipeline(memory='tmp',\n",
      "     steps=[('selector', VarianceThreshold(threshold=0)), ('scaler', StandardScaler(copy=True, with_mean=True, with_std=True)), ('sampler', RandomOverSampler(random_state=None, ratio='auto')), ('pca', PCA(copy=True, iterated_power='auto', n_components=20, random_state=None,\n",
      "  svd_solver='auto', tol=0.0, whiten=False)), ('kNN', KNeighborsClassifier(algorithm='auto', leaf_size=30, metric='euclidean',\n",
      "           metric_params=None, n_jobs=-1, n_neighbors=3, p=2,\n",
      "           weights='uniform'))])\n",
      "{'pca__n_components': 20, 'kNN__metric': 'euclidean', 'kNN__weights': 'uniform', 'kNN__n_neighbors': 3, 'selector__threshold': 0}\n"
     ]
    }
   ],
   "source": [
    "import time\n",
    "\n",
    "gnb = GaussianNB()\n",
    "\n",
    "pipe = Pipeline(steps=[('selector', selector), ('scaler', scaler), ('sampler', ros), ('pca', pca), ('gnb', gnb)], memory = 'tmp')\n",
    "estimator1 = GridSearchCV(pipe, dict(selector__threshold=vthreshold, pca__n_components=n_components), cv=5, scoring='f1_macro', n_jobs=1)\n",
    "time1=time.time()\n",
    "estimator1.fit(train, train_labels)\n",
    "time2=time.time()\n",
    "time3=time2-time1\n",
    "time1=time.time()\n",
    "esr_predictions_opt['gaussian naives bayes_macro'] = estimator1.predict(test)\n",
    "time2=time.time()\n",
    "time4=time2-time1\n",
    "print(\"Gaussinan Naives Bayes Classifier with gridsearcv at f1-macro \")\n",
    "print(confusion_matrix(test_labels,esr_predictions_opt['gaussian naives bayes_macro']))\n",
    "print classification_report(test_labels, esr_predictions_opt['gaussian naives bayes_macro'])\n",
    "print (\"Training time: \" + str(time3))\n",
    "print (\"Testing time: \" + str(time4))\n",
    "esr_macro_opt['gaussian naives bayes_macro']=precision_recall_fscore_support(test_labels,esr_predictions_opt['gaussian naives bayes_macro'],average='macro')\n",
    "esr_weighted_opt['gaussian naives bayes_macro']=precision_recall_fscore_support(test_labels,esr_predictions_opt['gaussian naives bayes_macro'],average='weighted')\n",
    "print estimator.best_estimator_\n",
    "print estimator.best_params_\n",
    "\n",
    "gnb = GaussianNB()\n",
    "pipe = Pipeline(steps=[('selector', selector), ('scaler', scaler), ('sampler', ros), ('pca', pca), ('gnb', gnb)], memory = 'tmp')\n",
    "estimator1 = GridSearchCV(pipe, dict(selector__threshold=vthreshold, pca__n_components=n_components), cv=5, scoring='f1_weighted', n_jobs=1)\n",
    "time1=time.time()\n",
    "estimator1.fit(train, train_labels)\n",
    "time2=time.time()\n",
    "time3=time2-time1\n",
    "time1=time.time()\n",
    "esr_predictions_opt['gaussian naives bayes_weighted'] = estimator1.predict(test)\n",
    "time2=time.time()\n",
    "time4=time2-time1\n",
    "print(\"\\nGaussinan Naives Bayes classifier with gridsearcv at f1-weighted \")\n",
    "print(confusion_matrix(test_labels,esr_predictions_opt['gaussian naives bayes_weighted']))\n",
    "print classification_report(test_labels, esr_predictions_opt['gaussian naives bayes_weighted'])\n",
    "print (\"Training time: \" + str(time3))\n",
    "print (\"Testing time: \" + str(time4))\n",
    "esr_macro_opt['gaussian naives bayes_weighted']=precision_recall_fscore_support(test_labels,esr_predictions_opt['gaussian naives bayes_weighted'],average='macro')\n",
    "esr_weighted_opt['gaussian naives bayes_weighted']=precision_recall_fscore_support(test_labels,esr_predictions_opt['gaussian naives bayes_weighted'],average='weighted')\n",
    "print estimator.best_estimator_\n",
    "print estimator.best_params_"
   ]
  },
  {
   "cell_type": "markdown",
   "metadata": {},
   "source": [
    "Στον Knn Classifier θα πειραματιστούμε με την τιμή του k(αριθμός γειτόνων), το πεδίο weights και το πεδίο metric:"
   ]
  },
  {
   "cell_type": "code",
   "execution_count": 326,
   "metadata": {},
   "outputs": [
    {
     "name": "stdout",
     "output_type": "stream",
     "text": [
      "Knn classifier with gridsearchv at f1-macro \n",
      "[[243   2]\n",
      " [ 19  36]]\n",
      "             precision    recall  f1-score   support\n",
      "\n",
      "          0       0.93      0.99      0.96       245\n",
      "          1       0.95      0.65      0.77        55\n",
      "\n",
      "avg / total       0.93      0.93      0.92       300\n",
      "\n",
      "Training time: 845.07555604\n",
      "Testing time: 0.233909845352\n",
      "Pipeline(memory=None,\n",
      "     steps=[('selector', VarianceThreshold(threshold=0.1)), ('scaler', StandardScaler(copy=True, with_mean=True, with_std=True)), ('sampler', RandomOverSampler(random_state=None, ratio='auto')), ('pca', PCA(copy=True, iterated_power='auto', n_components=20, random_state=None,\n",
      "  svd_solver='auto', tol=0.0, whiten=False)), ('kNN', KNeighborsClassifier(algorithm='auto', leaf_size=30, metric='euclidean',\n",
      "           metric_params=None, n_jobs=-1, n_neighbors=5, p=2,\n",
      "           weights='distance'))])\n",
      "{'pca__n_components': 20, 'kNN__metric': 'euclidean', 'kNN__weights': 'distance', 'kNN__n_neighbors': 5, 'selector__threshold': 0.1}\n",
      "\n",
      "Knn classifier with gridsearchv at f1-weighted \n",
      "[[242   3]\n",
      " [ 19  36]]\n",
      "             precision    recall  f1-score   support\n",
      "\n",
      "          0       0.93      0.99      0.96       245\n",
      "          1       0.92      0.65      0.77        55\n",
      "\n",
      "avg / total       0.93      0.93      0.92       300\n",
      "\n",
      "Training time: 761.685833931\n",
      "Testing time: 0.148874998093\n",
      "Pipeline(memory='tmp',\n",
      "     steps=[('selector', VarianceThreshold(threshold=0)), ('scaler', StandardScaler(copy=True, with_mean=True, with_std=True)), ('sampler', RandomOverSampler(random_state=None, ratio='auto')), ('pca', PCA(copy=True, iterated_power='auto', n_components=20, random_state=None,\n",
      "  svd_solver='auto', tol=0.0, whiten=False)), ('kNN', KNeighborsClassifier(algorithm='auto', leaf_size=30, metric='euclidean',\n",
      "           metric_params=None, n_jobs=-1, n_neighbors=5, p=2,\n",
      "           weights='uniform'))])\n",
      "{'pca__n_components': 20, 'kNN__metric': 'euclidean', 'kNN__weights': 'uniform', 'kNN__n_neighbors': 5, 'selector__threshold': 0}\n"
     ]
    }
   ],
   "source": [
    "#knn classifier\n",
    "from sklearn import neighbors\n",
    "clf = neighbors.KNeighborsClassifier(n_jobs=-1)\n",
    "\n",
    "k=[1, 3, 5, 7, 10, 15]\n",
    "weights=['uniform', 'distance']\n",
    "metric=['euclidean', 'manhattan', 'chebyshev']\n",
    "pipe = Pipeline(steps=[('selector', selector), ('scaler', scaler), ('sampler', ros), ('pca', pca), ('kNN', clf)])\n",
    "estimator = GridSearchCV(pipe, dict(selector__threshold=vthreshold, pca__n_components=n_components, kNN__n_neighbors=k, kNN__weights=weights, kNN__metric=metric), cv=5, scoring='f1_macro', n_jobs=1)\n",
    "time1=time.time()\n",
    "estimator.fit(train, train_labels)\n",
    "time2=time.time()\n",
    "time3=time2-time1\n",
    "time1=time.time()\n",
    "esr_predictions_opt['knn_macro'] = estimator.predict(test)\n",
    "time2=time.time()\n",
    "time4=time2-time1\n",
    "print(\"Knn classifier with gridsearchv at f1-macro \")\n",
    "print(confusion_matrix(test_labels,esr_predictions_opt['knn_macro']))\n",
    "print classification_report(test_labels, esr_predictions_opt['knn_macro'])\n",
    "print (\"Training time: \" + str(time3))\n",
    "print (\"Testing time: \" + str(time4))\n",
    "esr_macro_opt['knn_macro']=precision_recall_fscore_support(test_labels,esr_predictions_opt['knn_macro'],average='macro')\n",
    "esr_weighted_opt['knn_macro']=precision_recall_fscore_support(test_labels,esr_predictions_opt['knn_macro'],average='weighted')\n",
    "print estimator.best_estimator_\n",
    "print estimator.best_params_\n",
    "\n",
    "clf = neighbors.KNeighborsClassifier(n_jobs=-1)\n",
    "pipe = Pipeline(steps=[('selector', selector), ('scaler', scaler), ('sampler', ros), ('pca', pca), ('kNN', clf)], memory = 'tmp')\n",
    "estimator = GridSearchCV(pipe, dict(selector__threshold=vthreshold, pca__n_components=n_components, kNN__n_neighbors=k, kNN__weights=weights, kNN__metric=metric), cv=5, scoring='f1_weighted', n_jobs=1)\n",
    "time1=time.time()\n",
    "estimator.fit(train, train_labels)\n",
    "time2=time.time()\n",
    "time3=time2-time1\n",
    "time1=time.time()\n",
    "esr_predictions_opt['knn_weighted'] = estimator.predict(test)\n",
    "time2=time.time()\n",
    "time4=time2-time1\n",
    "print(\"\\nKnn classifier with gridsearchv at f1-weighted \")\n",
    "print(confusion_matrix(test_labels,esr_predictions_opt['knn_weighted']))\n",
    "print classification_report(test_labels, esr_predictions_opt['knn_weighted'])\n",
    "print (\"Training time: \" + str(time3))\n",
    "print (\"Testing time: \" + str(time4))\n",
    "esr_macro_opt['knn_weighted']=precision_recall_fscore_support(test_labels,esr_predictions_opt['knn_weighted'],average='macro')\n",
    "esr_weighted_opt['knn_weighted']=precision_recall_fscore_support(test_labels,esr_predictions_opt['knn_weighted'],average='weighted')\n",
    "print estimator.best_estimator_\n",
    "print estimator.best_params_"
   ]
  },
  {
   "cell_type": "markdown",
   "metadata": {},
   "source": [
    "Τέλος, πειραματιζόμαστε με τον MLP Classifier. Από τα προηγούμενα αποτελέσματα είδαμε ότι η καλύτερη τιμή της παράμετρου των τελικών features για το pca είναι 20, γι'αυτό και θα τρέξουμε το GridSearch για αυτή την τιμή. Για το πεδίο activation, χρησιμοποιήσαμε τις τιμές: 'identity', 'logistic', 'tanh', 'relu' και είδαμε ότι τα καλύτερα scores επιτυγχάνονταν με τη μέθοδο 'relu'. Ομοίως στην περίπτωση του learning_rate δοκιμάσαμε τις μεθόδους: 'constant', 'invscaling', 'adaptive' και καταλήξαμε στην μέθοδο 'constant'. Επίσης, παρατηρήσαμε ότι η καλύτερη απόδοση επιτυγχάνεται όταν το hidden_layer_size παίρνει τιμές στο διάστημα [15,22]. Στη συνέχεια παρουσιάζουμε τη διαδικασία αναζήτησης βέλτιστων υπερπαραμέτρων για τον Mlp με βάση όσα αναφέραμε παραπάνω."
   ]
  },
  {
   "cell_type": "code",
   "execution_count": 327,
   "metadata": {},
   "outputs": [
    {
     "name": "stdout",
     "output_type": "stream",
     "text": [
      "Mlp classifier with gridsearchv at f1-macro \n",
      "[[244   1]\n",
      " [ 10  45]]\n",
      "             precision    recall  f1-score   support\n",
      "\n",
      "          0       0.96      1.00      0.98       245\n",
      "          1       0.98      0.82      0.89        55\n",
      "\n",
      "avg / total       0.96      0.96      0.96       300\n",
      "\n",
      "Training time: 782.000636101\n",
      "Testing time: 0.0680129528046\n",
      "Pipeline(memory=None,\n",
      "     steps=[('selector', VarianceThreshold(threshold=0.1)), ('scaler', StandardScaler(copy=True, with_mean=True, with_std=True)), ('sampler', RandomOverSampler(random_state=None, ratio='auto')), ('pca', PCA(copy=True, iterated_power='auto', n_components=20, random_state=None,\n",
      "  svd_solver='auto', tol=0.0...True, solver='lbfgs', tol=0.0001, validation_fraction=0.1,\n",
      "       verbose=False, warm_start=False))])\n",
      "{'mlp__activation': 'relu', 'mlp__alpha': 0.1, 'mlp__hidden_layer_sizes': 18, 'pca__n_components': 20, 'mlp__solver': 'lbfgs', 'mlp__learning_rate': 'constant', 'selector__threshold': 0.1, 'mlp__max_iter': 350}\n",
      "\n",
      "Mlp classifier with gridsearchv at f1-weighted \n",
      "[[241   4]\n",
      " [ 10  45]]\n",
      "             precision    recall  f1-score   support\n",
      "\n",
      "          0       0.96      0.98      0.97       245\n",
      "          1       0.92      0.82      0.87        55\n",
      "\n",
      "avg / total       0.95      0.95      0.95       300\n",
      "\n",
      "Training time: 630.033059835\n",
      "Testing time: 0.106940031052\n",
      "Pipeline(memory=None,\n",
      "     steps=[('selector', VarianceThreshold(threshold=0)), ('scaler', StandardScaler(copy=True, with_mean=True, with_std=True)), ('sampler', RandomOverSampler(random_state=None, ratio='auto')), ('pca', PCA(copy=True, iterated_power='auto', n_components=20, random_state=None,\n",
      "  svd_solver='auto', tol=0.0, ...True, solver='lbfgs', tol=0.0001, validation_fraction=0.1,\n",
      "       verbose=False, warm_start=False))])\n",
      "{'mlp__activation': 'relu', 'mlp__alpha': 0.0001, 'mlp__hidden_layer_sizes': 20, 'pca__n_components': 20, 'mlp__solver': 'lbfgs', 'mlp__learning_rate': 'constant', 'selector__threshold': 0, 'mlp__max_iter': 400}\n"
     ]
    }
   ],
   "source": [
    "n_components=[20]\n",
    "\n",
    "#Mlp classifier\n",
    "hidden_layer_sizes=[16,17,18,19,20]\n",
    "activation=['relu']\n",
    "solver=['lbfgs']\n",
    "max_iter=[350,400]\n",
    "learning_rate=['constant']\n",
    "alpha=[0.0001,0.001,0.01,0.1]\n",
    "\n",
    "clf = MLPClassifier()\n",
    "pipe = Pipeline(steps=[('selector', selector), ('scaler', scaler), ('sampler', ros), ('pca', pca), ('mlp', clf)])\n",
    "estimator = GridSearchCV(pipe, dict(selector__threshold=vthreshold, pca__n_components=n_components, mlp__hidden_layer_sizes =hidden_layer_sizes, mlp__activation=activation, mlp__solver=solver, mlp__alpha=alpha, mlp__learning_rate=learning_rate, mlp__max_iter=max_iter ), cv=5, scoring='f1_macro', n_jobs=1)\n",
    "time1=time.time()\n",
    "estimator.fit(train, train_labels)\n",
    "time2=time.time()\n",
    "time3=time2-time1\n",
    "time1=time.time()\n",
    "esr_predictions_opt['mlp_macro'] = estimator.predict(test)\n",
    "time2=time.time()\n",
    "time4=time2-time1\n",
    "print(\"Mlp classifier with gridsearchv at f1-macro \")\n",
    "print(confusion_matrix(test_labels,esr_predictions_opt['mlp_macro']))\n",
    "print classification_report(test_labels, esr_predictions_opt['mlp_macro'])\n",
    "print (\"Training time: \" + str(time3))\n",
    "print (\"Testing time: \" + str(time4))\n",
    "esr_macro_opt['mlp_macro']=precision_recall_fscore_support(test_labels,esr_predictions_opt['mlp_macro'],average='macro')\n",
    "esr_weighted_opt['mlp_macro']=precision_recall_fscore_support(test_labels,esr_predictions_opt['mlp_macro'],average='weighted')\n",
    "print estimator.best_estimator_\n",
    "print estimator.best_params_\n",
    "\n",
    "clf = MLPClassifier()\n",
    "pipe = Pipeline(steps=[('selector', selector), ('scaler', scaler), ('sampler', ros), ('pca', pca), ('mlp', clf)])\n",
    "estimator = GridSearchCV(pipe, dict(selector__threshold=vthreshold, pca__n_components=n_components, mlp__hidden_layer_sizes =hidden_layer_sizes, mlp__activation=activation, mlp__solver=solver, mlp__alpha=alpha, mlp__learning_rate=learning_rate, mlp__max_iter=max_iter ), cv=5, scoring='f1_weighted', n_jobs=1)\n",
    "time1=time.time()\n",
    "estimator.fit(train, train_labels)\n",
    "time2=time.time()\n",
    "time3=time2-time1\n",
    "time1=time.time()\n",
    "esr_predictions_opt['mlp_weighted'] = estimator.predict(test)\n",
    "time2=time.time()\n",
    "time4=time2-time1\n",
    "print(\"\\nMlp classifier with gridsearchv at f1-weighted \")\n",
    "print(confusion_matrix(test_labels,esr_predictions_opt['mlp_weighted']))\n",
    "print classification_report(test_labels, esr_predictions_opt['mlp_weighted'])\n",
    "print (\"Training time: \" + str(time3))\n",
    "print (\"Testing time: \" + str(time4))\n",
    "esr_macro_opt['mlp_weighted']=precision_recall_fscore_support(test_labels,esr_predictions_opt['mlp_weighted'],average='macro')\n",
    "esr_weighted_opt['mlp_weighted']=precision_recall_fscore_support(test_labels,esr_predictions_opt['mlp_weighted'],average='weighted')\n",
    "print estimator.best_estimator_\n",
    "print estimator.best_params_"
   ]
  },
  {
   "cell_type": "code",
   "execution_count": 329,
   "metadata": {},
   "outputs": [
    {
     "name": "stdout",
     "output_type": "stream",
     "text": [
      "\n",
      "Results with f1-weighted average on the ESR Dataset\n",
      "\n",
      "constant 1_macro: (0.033611111111111105, 0.18333333333333332, 0.0568075117370892, None)\n",
      "constant 1_weighted: (0.033611111111111105, 0.18333333333333332, 0.0568075117370892, None)\n",
      "uniform_weighted: (0.68140988523154122, 0.46666666666666667, 0.52486546067561435, None)\n",
      "uniform_macro: (0.70697167755991297, 0.5, 0.55528846153846156, None)\n",
      "stratified_macro: (0.70385778333854665, 0.52666666666666662, 0.58017537622941096, None)\n",
      "stratified_weighted: (0.76111457036114583, 0.56999999999999995, 0.61830322073841326, None)\n",
      "constant 0_macro: (0.66694444444444445, 0.81666666666666665, 0.7342507645259938, None)\n",
      "constant 0_weighted: (0.66694444444444445, 0.81666666666666665, 0.7342507645259938, None)\n",
      "most frequent label_macro: (0.66694444444444445, 0.81666666666666665, 0.7342507645259938, None)\n",
      "most frequent label_weighted: (0.66694444444444445, 0.81666666666666665, 0.7342507645259938, None)\n",
      "knn_weighted: (0.9264466057569507, 0.92666666666666664, 0.92158495220474868, None)\n",
      "knn_macro: (0.93112695861791883, 0.93000000000000005, 0.92477572055735835, None)\n",
      "mlp_weighted: (0.95249749302111275, 0.95333333333333337, 0.9522694375516958, None)\n",
      "mlp_macro: (0.96386226178249446, 0.96333333333333337, 0.96203033128964188, None)\n",
      "gaussian naives bayes_macro: (0.96966501240694791, 0.96999999999999997, 0.96967071714280295, None)\n",
      "gaussian naives bayes_weighted: (0.96966501240694791, 0.96999999999999997, 0.96967071714280295, None)\n",
      "\n",
      "Results with f1-macro average on the ESR Dataset\n",
      "\n",
      "constant 1_macro: (0.09166666666666666, 0.5, 0.15492957746478872, None)\n",
      "constant 1_weighted: (0.09166666666666666, 0.5, 0.15492957746478872, None)\n",
      "uniform_weighted: (0.48140394637209921, 0.46901669758812614, 0.41645594242365297, None)\n",
      "uniform_macro: (0.5063358676804055, 0.51057513914656771, 0.44809654631083207, None)\n",
      "constant 0_macro: (0.40833333333333333, 0.5, 0.44954128440366969, None)\n",
      "constant 0_weighted: (0.40833333333333333, 0.5, 0.44954128440366969, None)\n",
      "most frequent label_macro: (0.40833333333333333, 0.5, 0.44954128440366969, None)\n",
      "most frequent label_weighted: (0.40833333333333333, 0.5, 0.44954128440366969, None)\n",
      "stratified_macro: (0.50346306805487284, 0.50575139146567716, 0.45914377126606065, None)\n",
      "stratified_weighted: (0.56159935954456497, 0.6027829313543599, 0.51745034227359443, None)\n",
      "knn_weighted: (0.9251399941055114, 0.82115027829313547, 0.86123959296947272, None)\n",
      "knn_macro: (0.93742466854158302, 0.82319109461966611, 0.86638671502195064, None)\n",
      "mlp_weighted: (0.93926335474428813, 0.90092764378478662, 0.91857940446650133, None)\n",
      "mlp_macro: (0.96944539541252994, 0.90705009276437853, 0.93452251036726919, None)\n",
      "gaussian naives bayes_macro: (0.95905707196029777, 0.93933209647495364, 0.94881613618699168, None)\n",
      "gaussian naives bayes_weighted: (0.95905707196029777, 0.93933209647495364, 0.94881613618699168, None)\n"
     ]
    },
    {
     "data": {
      "image/png": "[encoded data removed]",
      "text/plain": [
       "<matplotlib.figure.Figure at 0x7f9dab131310>"
      ]
     },
     "metadata": {},
     "output_type": "display_data"
    },
    {
     "data": {
      "image/png": "[encoded data removed]",
      "text/plain": [
       "<matplotlib.figure.Figure at 0x7f9dab3634d0>"
      ]
     },
     "metadata": {},
     "output_type": "display_data"
    }
   ],
   "source": [
    "#print results\n",
    "B=[]\n",
    "S1=[]\n",
    "print \"\\nResults with f1-weighted average on the ESR Dataset\\n\"\n",
    "for key, value in sorted(esr_weighted_opt.iteritems(), key=lambda (k,v): (v[2],k)):\n",
    "   print \"%s: %s\" % (key, value)\n",
    "   B.append(value[2])\n",
    "   S1.append(key)\n",
    " \n",
    "C=[]\n",
    "S2=[]\n",
    "print \"\\nResults with f1-macro average on the ESR Dataset\\n\"\n",
    "for key, value in sorted(esr_macro_opt.iteritems(), key=lambda (k,v): (v[2],k)):\n",
    "   print \"%s: %s\" % (key, value)\n",
    "   C.append(value[2])\n",
    "   S2.append(key)\n",
    "    \n",
    "#plot f1-weighted\n",
    "fig= plt.figure(facecolor=\"white\")\n",
    "ax = fig.add_subplot(1,1,1)\n",
    "bar_width=0.3\n",
    "bar_l = numpy.arange(1,17)\n",
    "tick_pos = [i + (0.05 / 16) for i in bar_l]\n",
    "\n",
    "ax1 = ax.barh(bar_l,B,height=bar_width,color='darkred',align='center')\n",
    "ax.set_xlabel(\"F1-Weighted\", fontsize=18)\n",
    "ax.set_ylabel(\"Classifier\", fontsize=18)\n",
    "ax.legend(loc=\"best\")\n",
    "plt.yticks(tick_pos,S1, fontsize=10)\n",
    "plt.xticks(fontsize=16)\n",
    "plt.show()\n",
    "\n",
    "#plot f1-macro\n",
    "fig= plt.figure(facecolor=\"white\")\n",
    "ax = fig.add_subplot(1,1,1)\n",
    "bar_width=0.3\n",
    "bar_l = numpy.arange(1,17)\n",
    "tick_pos = [i + (0.05 / 16) for i in bar_l]\n",
    "\n",
    "ax1 = ax.barh(bar_l,C,height=bar_width,color='darkgreen',align='center')\n",
    "ax.set_xlabel(\"F1-Macro\", fontsize=18)\n",
    "ax.set_ylabel(\"Classifier\", fontsize=18)\n",
    "ax.legend(loc=\"best\")\n",
    "plt.yticks(tick_pos,S2, fontsize=10)\n",
    "plt.xticks(fontsize=16)\n",
    "plt.show()"
   ]
  }
 ],
 "metadata": {
  "kernelspec": {
   "display_name": "Python 2 with Spark 2.1",
   "language": "python",
   "name": "python2-spark21"
  },
  "language_info": {
   "codemirror_mode": {
    "name": "ipython",
    "version": 2
   },
   "file_extension": ".py",
   "mimetype": "text/x-python",
   "name": "python",
   "nbconvert_exporter": "python",
   "pygments_lexer": "ipython2",
   "version": "2.7.11"
  }
 },
 "nbformat": 4,
 "nbformat_minor": 1
}
