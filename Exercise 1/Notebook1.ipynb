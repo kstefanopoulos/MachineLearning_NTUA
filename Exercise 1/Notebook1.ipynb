{
 "cells": [
  {
   "cell_type": "markdown",
   "metadata": {
    "collapsed": true
   },
   "source": [
    "# Hepatitis Data Set"
   ]
  },
  {
   "cell_type": "markdown",
   "metadata": {},
   "source": [
    "## Ομάδα Α29\n",
    "## Φωτεινή Στρατή 03113001\n",
    "## Κοσμάς Στεφανόπουλος 03113098"
   ]
  },
  {
   "cell_type": "markdown",
   "metadata": {},
   "source": [
    "## 1. Εισαγωγή Dataset"
   ]
  },
  {
   "cell_type": "markdown",
   "metadata": {},
   "source": [
    "To [Hepatitis Data Set ](http://archive.ics.uci.edu/ml/datasets/Hepatitis) περιλαμβάνει 155 δείγματα τόσο από γυναίκες όσο και από άντρες. Με βάση 19 χαρακτηριστικά προσπαθούμε να καταλάβουμε εάν ένας ασθενής θα ζήσει ή θα πεθάνει."
   ]
  },
  {
   "cell_type": "markdown",
   "metadata": {},
   "source": [
    "Στο dataset υπάρχουν ακέραιες και πραγματικές τιμές, ενώ τα κατηγορικά χαρακτηριστικά αναπαρίστανται με χρήση των ακεραίων αριθμών 1 ή 2.\n",
    "Στο dataset δεν υπάρχουν επικεφαλίδες ούτε αρίθμηση των γραμμών.\n",
    "Οι δύο κλάσσεις(ετικέτες) από τις οποίες αποτελείται το δείγμα συμβολίζονται κατά την περιγραφή του dataset με DIE ή LIVE, βρίσκονται στην πρώτη στήλη και αναπαρίστανται με 1 ή 2 στο .data αρχείο. "
   ]
  },
  {
   "cell_type": "markdown",
   "metadata": {},
   "source": [
    "Στη συνέχεια εισάγουμε το dataset στο notebook"
   ]
  },
  {
   "cell_type": "code",
   "execution_count": 208,
   "metadata": {},
   "outputs": [
    {
     "name": "stdout",
     "output_type": "stream",
     "text": [
      "Requirement already up-to-date: scikit-learn in /gpfs/global_fs01/sym_shared/YPProdSpark/user/s653-bbdcd845a65a2b-8dae92f2c105/.local/lib/python2.7/site-packages\n",
      "Requirement already up-to-date: numpy in /gpfs/global_fs01/sym_shared/YPProdSpark/user/s653-bbdcd845a65a2b-8dae92f2c105/.local/lib/python2.7/site-packages\n"
     ]
    }
   ],
   "source": [
    "!pip install scikit-learn --upgrade #upgrade scikit-learn package\n",
    "!pip install numpy --upgrade #upgrade numpy package\n",
    "\n",
    "from io import StringIO\n",
    "import requests\n",
    "import json\n",
    "import pandas as pd\n",
    "import numpy\n",
    "\n",
    "\n",
    "# @hidden_cell\n",
    "# This function accesses a file in your Object Storage. The definition contains your credentials.\n",
    "# You might want to remove those credentials before you share your notebook.\n",
    "def get_object_storage_file_with_credentials_32ec1f0398634e35bbfa6b37fec2e635(container, filename):\n",
    "    \"\"\"This functions returns a StringIO object containing\n",
    "    the file content from Bluemix Object Storage.\"\"\"\n",
    "\n",
    "    url1 = ''.join(['https://identity.open.softlayer.com', '/v3/auth/tokens'])\n",
    "    data = {'auth': {'identity': {'methods': ['password'],\n",
    "            'password': {'user': {'name': 'member_db257ebff076e5af1f80ab731e6fd39ee8564add','domain': {'id': 'e804d8bdc63a4706b779dbd2f16ecde3'},\n",
    "            'password': 'GMljd7(Yq!eGC819'}}}}}\n",
    "    headers1 = {'Content-Type': 'application/json'}\n",
    "    resp1 = requests.post(url=url1, data=json.dumps(data), headers=headers1)\n",
    "    resp1_body = resp1.json()\n",
    "    for e1 in resp1_body['token']['catalog']:\n",
    "        if(e1['type']=='object-store'):\n",
    "            for e2 in e1['endpoints']:\n",
    "                        if(e2['interface']=='public'and e2['region']=='dallas'):\n",
    "                            url2 = ''.join([e2['url'],'/', container, '/', filename])\n",
    "    s_subject_token = resp1.headers['x-subject-token']\n",
    "    headers2 = {'X-Auth-Token': s_subject_token, 'accept': 'application/json'}\n",
    "    resp2 = requests.get(url=url2, headers=headers2)\n",
    "    return StringIO(resp2.text)\n",
    "\n",
    "# Your data file was loaded into a StringIO object and you can process the data.\n",
    "# Please read the documentation of pandas to learn more about your possibilities to load your data.\n",
    "# pandas documentation: http://pandas.pydata.org/pandas-docs/stable/io.html\n",
    "data_1 = get_object_storage_file_with_credentials_32ec1f0398634e35bbfa6b37fec2e635('execise1', 'hepatitis.data')\n"
   ]
  },
  {
   "cell_type": "markdown",
   "metadata": {},
   "source": [
    "Στη συνέχεια, βρίσκουμε σε ποια γνωρίσματα υπάρχουν απουσιάζουσες τιμές, το πλήθος και το ποσοστό των δειγμάτων που έχουν απουσιάζουσες τιμές, το πλήθος των κλάσεων και το ποσοστό της κάθε κλάσης επί του συνόλου:"
   ]
  },
  {
   "cell_type": "code",
   "execution_count": 209,
   "metadata": {},
   "outputs": [
    {
     "name": "stdout",
     "output_type": "stream",
     "text": [
      "Missing Values of each feature: \n",
      "1      0\n",
      "2      0\n",
      "3      1\n",
      "4      0\n",
      "5      1\n",
      "6      1\n",
      "7      1\n",
      "8     10\n",
      "9     11\n",
      "10     5\n",
      "11     5\n",
      "12     5\n",
      "13     5\n",
      "14     6\n",
      "15    29\n",
      "16     4\n",
      "17    16\n",
      "18    67\n",
      "19     0\n",
      "dtype: int64\n",
      "The amount of samples with missing values is: 75\n",
      "The percentage of samples with missing values is: 48%\n",
      "frequencies: [  0  32 123]\n",
      "percentage: [  0.          20.64516129  79.35483871]\n"
     ]
    }
   ],
   "source": [
    "dataset = pd.read_csv(data_1, header=None)\n",
    "print(\"Missing Values of each feature: \")\n",
    "print((dataset[range(1,20)] == '?').sum())\n",
    "dataset[range(1,20)] = dataset[range(1,20)].replace('?', numpy.NaN)\n",
    "mis = sum([True for idx,row in dataset.iterrows() if any(row.isnull())])\n",
    "print(\"The amount of samples with missing values is: \" + str(mis))\n",
    "print(\"The percentage of samples with missing values is: {0:.0f}%\".format(mis/155.0 * 100))\n",
    "# Organize our data\n",
    "labels_df = dataset.iloc[:, [0]]\n",
    "features_df = dataset.iloc[:, 1:]\n",
    "# μετατρέπουμε το dataframe σε numpy array\n",
    "np_features = features_df.values\n",
    "# μετατρέπουμε το dataframe σε μονοδιάστατο array\n",
    "np_labels = labels_df.values.flatten()\n",
    "print \"frequencies:\", numpy.bincount(np_labels)\n",
    "print \"percentage:\", numpy.bincount(np_labels)*100.0/np_labels.shape"
   ]
  },
  {
   "cell_type": "markdown",
   "metadata": {},
   "source": [
    "To dataset είναι μη ισορροπημένο, γιατί η κλάση LIVE(2) είναι περίπου 4 φορές πιο συχνή από την κλάση DIE(1)."
   ]
  },
  {
   "cell_type": "markdown",
   "metadata": {},
   "source": [
    "Στη συνέχεια, χωρίζουμε το dataset σε train set(80%) και test set(20%). Επειδή στο dataset υπάρχουν missing values και μάλιστα στο 48% των δειγμάτων, θα χρησιμοποιήσουμε το μετασχηματιστή “Imputer” του scikit learn που αντικαθιστά κάθε απουσιάζουσα τιμή χαρακτηριστικού με τη μέση τιμή του χαρακτηριστικού στο train set. Επίσης, επειδή το dataset είναι μη ισορροπημένο, θα κάνουμε ένα απλό random oversampling στο training set μας, με χρήση της imblearn. Το νέο training set θα χρησιμοποιηθεί στο 3ο μέρος της άσκησης."
   ]
  },
  {
   "cell_type": "code",
   "execution_count": 210,
   "metadata": {},
   "outputs": [
    {
     "name": "stdout",
     "output_type": "stream",
     "text": [
      "0\n",
      "(246, 19)\n",
      "(246,)\n",
      "369.0\n",
      "frequencies: [123 123]\n",
      "percentage: [ 50.  50.]\n"
     ]
    }
   ],
   "source": [
    "from sklearn.model_selection import train_test_split\n",
    "from sklearn.preprocessing import Imputer\n",
    "\n",
    "# Replace missing values\n",
    "imp=Imputer(missing_values='NaN', strategy='mean', axis=0)\n",
    "values = dataset.values\n",
    "transformed_values = imp.fit_transform(values)\n",
    "# count the number of NaN values in each column\n",
    "print(numpy.isnan(transformed_values).sum())\n",
    "\n",
    "# Organize our data\n",
    "labels_df = transformed_values[:,[0]]\n",
    "features_df = transformed_values[:, 1:]\n",
    "np_labels=labels_df.flatten()\n",
    "\n",
    "#split dataset\n",
    "train, test, train_labels, test_labels = train_test_split(features_df, np_labels, test_size=0.2,random_state=1)\n",
    "\n",
    "#εξισορροπηση dataset: πειράζουμε μόνο το training set: στο 3ο μερος.\n",
    "from imblearn.over_sampling import RandomOverSampler\n",
    "from sklearn.preprocessing import MultiLabelBinarizer\n",
    "# αρχικοποίηση του RandomOverSampler\n",
    "ros = RandomOverSampler(random_state=0)\n",
    "train_resampled, train_labels_resampled = ros.fit_sample(features_df,np_labels)\n",
    "\n",
    "# εκτυπώνουμε τις νέες διαστάσεις του train set\n",
    "print train_resampled.shape\n",
    "print train_labels_resampled.shape\n",
    "\n",
    "# επιβεβαιώνουμε ότι το training set έχει εξισορροπηθεί με oversampling\n",
    "summ = train_labels_resampled.T.sum(axis=0)\n",
    "print summ\n",
    "uniqw, inverse = numpy.unique(train_labels_resampled, return_inverse=True)\n",
    "uniqw\n",
    "print \"frequencies:\", numpy.bincount(inverse)\n",
    "print \"percentage:\", numpy.bincount(inverse)*100.0/train_labels_resampled.shape"
   ]
  },
  {
   "cell_type": "markdown",
   "metadata": {},
   "source": [
    "## 2. Baseline Classification "
   ]
  },
  {
   "cell_type": "markdown",
   "metadata": {},
   "source": [
    "Αρχικά, θα εκπαιδεύσουμε dummy classifiers και έναν MLP με default τιμές. Θα χρησιμοποιήσουμε το test set που έχουμε ορίσει, καθώς και τη μέθοδο 10-fold cross validation με 2 διαφορετικές μετρικές(f1-macro και f1-weigthed). Τα αποτελέσματα για τις μετρικές f1-macro και f1-weighted παρουσιάζονται και με τη μορφή διαγραμμάτων:"
   ]
  },
  {
   "cell_type": "code",
   "execution_count": 211,
   "metadata": {},
   "outputs": [
    {
     "name": "stdout",
     "output_type": "stream",
     "text": [
      "Uniform classifier \n",
      "[[ 3  2]\n",
      " [14 12]]\n",
      "             precision    recall  f1-score   support\n",
      "\n",
      "        1.0       0.18      0.60      0.27         5\n",
      "        2.0       0.86      0.46      0.60        26\n",
      "\n",
      "avg / total       0.75      0.48      0.55        31\n",
      "\n",
      "Constant_1 classifier \n",
      "[[ 5  0]\n",
      " [26  0]]\n",
      "             precision    recall  f1-score   support\n",
      "\n",
      "        1.0       0.16      1.00      0.28         5\n",
      "        2.0       0.00      0.00      0.00        26\n",
      "\n",
      "avg / total       0.03      0.16      0.04        31\n",
      "\n",
      "Constant_2 classifier \n",
      "[[ 0  5]\n",
      " [ 0 26]]\n",
      "             precision    recall  f1-score   support\n",
      "\n",
      "        1.0       0.00      0.00      0.00         5\n",
      "        2.0       0.84      1.00      0.91        26\n",
      "\n",
      "avg / total       0.70      0.84      0.77        31\n",
      "\n",
      "Most Frequent Label Classifier \n",
      "[[ 0  5]\n",
      " [ 0 26]]\n",
      "             precision    recall  f1-score   support\n",
      "\n",
      "        1.0       0.00      0.00      0.00         5\n",
      "        2.0       0.84      1.00      0.91        26\n",
      "\n",
      "avg / total       0.70      0.84      0.77        31\n",
      "\n",
      "Stratified \n",
      "[[ 0  5]\n",
      " [ 6 20]]\n",
      "             precision    recall  f1-score   support\n",
      "\n",
      "        1.0       0.00      0.00      0.00         5\n",
      "        2.0       0.80      0.77      0.78        26\n",
      "\n",
      "avg / total       0.67      0.65      0.66        31\n",
      "\n"
     ]
    }
   ],
   "source": [
    "from sklearn.model_selection import cross_val_score\n",
    "from sklearn.model_selection import KFold\n",
    "import matplotlib.pyplot as plt\n",
    "from sklearn.metrics import confusion_matrix\n",
    "from sklearn.metrics import precision_recall_fscore_support\n",
    "\n",
    "hep_predictions={}\n",
    "hep_macro={}\n",
    "hep_weighted={}\n",
    "\n",
    "#dummy classifiers\n",
    "from sklearn.dummy import DummyClassifier\n",
    "dc_uniform = DummyClassifier(strategy=\"uniform\",random_state=1)\n",
    "dc_constant_1 = DummyClassifier(strategy=\"constant\", constant=1,random_state=1)\n",
    "dc_constant_2 = DummyClassifier(strategy=\"constant\", constant=2,random_state=1)\n",
    "dc_most_frequent = DummyClassifier(strategy=\"most_frequent\",random_state=1)\n",
    "dc_stratified = DummyClassifier(strategy=\"stratified\",random_state=1)\n",
    "\n",
    "#train and test dummy classifiers\n",
    "model = dc_uniform.fit(train, train_labels)\n",
    "hep_predictions['uniform']= dc_uniform.predict(test)\n",
    "print(\"Uniform classifier \")\n",
    "print(confusion_matrix(test_labels,hep_predictions['uniform']))\n",
    "hep_macro['uniform']=precision_recall_fscore_support(test_labels,hep_predictions['uniform'],average='macro')\n",
    "hep_weighted['uniform']=precision_recall_fscore_support(test_labels,hep_predictions['uniform'],average='weighted')\n",
    "print classification_report(test_labels, hep_predictions['uniform'])\n",
    "\n",
    "model = dc_constant_1.fit(train, train_labels)\n",
    "hep_predictions['constant 1']=dc_constant_1.predict(test)\n",
    "print(\"Constant_1 classifier \")\n",
    "print(confusion_matrix(test_labels,hep_predictions['constant 1']))\n",
    "hep_macro['constant 1']=precision_recall_fscore_support(test_labels,hep_predictions['constant 1'],average='macro')\n",
    "hep_weighted['constant 1']=precision_recall_fscore_support(test_labels,hep_predictions['constant 1'],average='weighted')\n",
    "print classification_report(test_labels, hep_predictions['constant 1'])\n",
    "\n",
    "\n",
    "model = dc_constant_2.fit(train, train_labels)\n",
    "hep_predictions['constant 2']=dc_constant_2.predict(test)\n",
    "print(\"Constant_2 classifier \")\n",
    "print(confusion_matrix(test_labels,hep_predictions['constant 2']))\n",
    "hep_macro['constant 2']=precision_recall_fscore_support(test_labels,hep_predictions['constant 2'],average='macro')\n",
    "hep_weighted['constant 2']=precision_recall_fscore_support(test_labels,hep_predictions['constant 2'],average='weighted')\n",
    "print classification_report(test_labels, hep_predictions['constant 2'])\n",
    "\n",
    "\n",
    "model = dc_most_frequent.fit(train, train_labels)\n",
    "hep_predictions['most frequent label']=dc_most_frequent.predict(test)\n",
    "print(\"Most Frequent Label Classifier \")\n",
    "print(confusion_matrix(test_labels,hep_predictions['most frequent label']))\n",
    "hep_macro['most frequent label']=precision_recall_fscore_support(test_labels,hep_predictions['most frequent label'],average='macro')\n",
    "hep_weighted['most frequent label']=precision_recall_fscore_support(test_labels,hep_predictions['most frequent label'],average='weighted')\n",
    "print classification_report(test_labels, hep_predictions['most frequent label'])\n",
    "\n",
    "\n",
    "model = dc_stratified.fit(train, train_labels)\n",
    "hep_predictions['stratified']=dc_stratified.predict(test)\n",
    "print(\"Stratified \")\n",
    "print(confusion_matrix(test_labels,hep_predictions['stratified']))\n",
    "hep_macro['stratified']=precision_recall_fscore_support(test_labels,hep_predictions['stratified'],average='macro')\n",
    "hep_weighted['stratified']=precision_recall_fscore_support(test_labels,hep_predictions['stratified'],average='weighted')\n",
    "print classification_report(test_labels, hep_predictions['stratified'])\n"
   ]
  },
  {
   "cell_type": "code",
   "execution_count": 212,
   "metadata": {},
   "outputs": [
    {
     "name": "stdout",
     "output_type": "stream",
     "text": [
      "MLP \n",
      "[[ 1  4]\n",
      " [ 0 26]]\n",
      "             precision    recall  f1-score   support\n",
      "\n",
      "        1.0       1.00      0.20      0.33         5\n",
      "        2.0       0.87      1.00      0.93        26\n",
      "\n",
      "avg / total       0.89      0.87      0.83        31\n",
      "\n"
     ]
    }
   ],
   "source": [
    "#mlp and cross validation\n",
    "\n",
    "from sklearn.neural_network import MLPClassifier\n",
    "from sklearn.metrics import classification_report\n",
    "\n",
    "clf = MLPClassifier(random_state=1) #random_state=1\n",
    "model = clf.fit(train, train_labels)\n",
    "hep_predictions['mlp']=clf.predict(test)\n",
    "print(\"MLP \")\n",
    "print(confusion_matrix(test_labels,hep_predictions['mlp']))\n",
    "print classification_report(test_labels, hep_predictions['mlp'])\n",
    "\n",
    "\n",
    "hep_macro['mlp']=precision_recall_fscore_support(test_labels,hep_predictions['mlp'],average='macro')\n",
    "hep_weighted['mlp']=precision_recall_fscore_support(test_labels,hep_predictions['mlp'],average='weighted')"
   ]
  },
  {
   "cell_type": "code",
   "execution_count": 214,
   "metadata": {},
   "outputs": [
    {
     "name": "stdout",
     "output_type": "stream",
     "text": [
      "\n",
      "Results with f1-weighted average on the Hepatitis Dataset\n",
      "\n",
      "constant 1: (0.026014568158168574, 0.16129032258064516, 0.044802867383512537, None)\n",
      "uniform: (0.74735700731905663, 0.4838709677419355, 0.54721407624633434, None)\n",
      "stratified: (0.67096774193548392, 0.64516129032258063, 0.65781151170145469, None)\n",
      "constant 2: (0.70343392299687835, 0.83870967741935487, 0.76513865308432372, None)\n",
      "most frequent label: (0.70343392299687835, 0.83870967741935487, 0.76513865308432372, None)\n",
      "mlp: (0.8881720430107527, 0.87096774193548387, 0.83256528417818743, None)\n",
      "\n",
      "Results with f1-macro average on the Hepatitis Dataset\n",
      "\n",
      "constant 1: (0.080645161290322578, 0.5, 0.13888888888888887, None)\n",
      "stratified: (0.40000000000000002, 0.38461538461538464, 0.39215686274509803, None)\n",
      "uniform: (0.51680672268907557, 0.53076923076923077, 0.43636363636363634, None)\n",
      "constant 2: (0.41935483870967744, 0.5, 0.45614035087719296, None)\n",
      "most frequent label: (0.41935483870967744, 0.5, 0.45614035087719296, None)\n",
      "mlp: (0.93333333333333335, 0.59999999999999998, 0.63095238095238093, None)\n"
     ]
    },
    {
     "data": {
      "image/png": "[encoded data removed]",
      "text/plain": [
       "<matplotlib.figure.Figure at 0x7f892332c410>"
      ]
     },
     "metadata": {},
     "output_type": "display_data"
    },
    {
     "data": {
      "image/png": "[encoded data removed]",
      "text/plain": [
       "<matplotlib.figure.Figure at 0x7f8929682ad0>"
      ]
     },
     "metadata": {},
     "output_type": "display_data"
    }
   ],
   "source": [
    "#print results\n",
    "B=[]\n",
    "S1=[]\n",
    "print \"\\nResults with f1-weighted average on the Hepatitis Dataset\\n\"\n",
    "for key, value in sorted(hep_weighted.iteritems(), key=lambda (k,v): (v[2],k)):\n",
    "   print \"%s: %s\" % (key, value)\n",
    "   B.append(value[2])\n",
    "   S1.append(key)\n",
    "    \n",
    "C=[]\n",
    "S2=[]\n",
    "print \"\\nResults with f1-macro average on the Hepatitis Dataset\\n\"\n",
    "for key, value in sorted(hep_macro.iteritems(), key=lambda (k,v): (v[2],k)):\n",
    "   print \"%s: %s\" % (key, value)\n",
    "   C.append(value[2])\n",
    "   S2.append(key)\n",
    "     \n",
    "#plot f1-weighted\n",
    "fig= plt.figure(facecolor=\"white\")\n",
    "ax = fig.add_subplot(1,1,1)\n",
    "bar_width=0.5\n",
    "bar_l = numpy.arange(1,7)\n",
    "tick_pos = [i + (0.05 / 6) for i in bar_l]\n",
    "\n",
    "ax1 = ax.barh(bar_l,B,height=bar_width,color='darkred',align='center')\n",
    "ax.set_xlabel(\"F1-Weigthed\", fontsize=18)\n",
    "ax.set_ylabel(\"Classifier\", fontsize=18)\n",
    "ax.legend(loc=\"best\")\n",
    "plt.yticks(tick_pos,S1, fontsize=10)\n",
    "plt.xticks(fontsize=16)\n",
    "plt.show()\n",
    "\n",
    "#plot f1-macro\n",
    "fig= plt.figure(facecolor=\"white\")\n",
    "ax = fig.add_subplot(1,1,1)\n",
    "bar_width=0.5\n",
    "bar_l = numpy.arange(1,7)\n",
    "tick_pos = [i + (0.05 / 6) for i in bar_l]\n",
    "\n",
    "ax1 = ax.barh(bar_l,C,height=bar_width,color='darkgreen',align='center')\n",
    "ax.set_xlabel(\"F1-Macro\", fontsize=18)\n",
    "ax.set_ylabel(\"Classifier\", fontsize=18)\n",
    "ax.legend(loc=\"best\")\n",
    "plt.yticks(tick_pos,S2, fontsize=10)\n",
    "plt.xticks(fontsize=16)\n",
    "plt.show()"
   ]
  },
  {
   "cell_type": "markdown",
   "metadata": {},
   "source": [
    "Παρατηρούμε ότι το mlp έχει την καλύτερη απόδοση, τόσο στη μετρική F1-Weighted, όσο και στη μετρική F1-Macro. Οι most_frequent_label και constant_2, έχουν ακριβώς την ίδια απόδοση καθώς στο test set που ορίστηκε, υπάρχουν περισσότερα στοιχεία της κλασσης 2. Για αυτό το λόγο, το constant 1 έχει την χειρότερη απόδοση."
   ]
  },
  {
   "cell_type": "markdown",
   "metadata": {},
   "source": [
    "## 3. Βελτιστοποίηση Ταξινομητών"
   ]
  },
  {
   "cell_type": "markdown",
   "metadata": {
    "collapsed": true
   },
   "source": [
    "Σε αυτό το τμήμα της άσκησης, θα προσπαθήσουμε να βελτιώσουμε την απόδοσή των Classifiers στο training set μέσω της διαδικασίας\n",
    "προεπεξεργασίας και εύρεσης βέλτιστων υπερπαραμέτρων. Όσον αφορά το κομμάτι της προπεξεργασίας, έχουμε ήδη δημιουργήσει δύο νέα σύνολα, το train_resampled και το train_label_resampled, με την τεχνική του oversampling. Συνεπώς, θα εκπαιδεύσουμε τους classifiers σε αυτά τα σύνολα. Σε αυτό το κομμάτι της άσκησης δε θα ασχοληθούμε με τους dummy classifiers, μόνο για τον Μlp."
   ]
  },
  {
   "cell_type": "markdown",
   "metadata": {},
   "source": [
    "Για τον Multilayer Perceptron, θα προβούμε στην αναζήτηση των βέλτιστων υπερπαραμέτρων με χρήση της τεχνικής 10-fold cross-validation.Πιο συγκεκριμένα, οι υπερπαράμετροι που θα αναζητήσουμε είναι: hidden_layer_sizes (θα χρησιμοποιήσουμε μόνο ένα επίπεδο κρυμμένων νευρώνων),\n",
    "activation, solver, max_iter, learning_rate, alpha. Για τους καλύτερους συνδυασμούς υπερπαραμέτρων που θα προκύψουν, για τις μετρικές f1-macro και f1-weighted, θα εκπαιδεύσουμε τους αντίστοιχους mlp στο training set που έχει προκύψει από το oversampling, και θα τους αξιολογήσουμε με το test set."
   ]
  },
  {
   "cell_type": "markdown",
   "metadata": {},
   "source": [
    "Για το πεδίο activation, χρησιμοποιήσαμε τις τιμές: 'identity', 'logistic', 'tanh', 'relu' και είδαμε ότι τα καλύτερα scores επιτυγχάνονταν με τη μέθοδο 'relu'. Ομοίως στην περίπτωση του learning_rate δοκιμάσαμε τις μεθόδους: 'constant', 'invscaling', 'adaptive' και καταλήξαμε στην μέθοδο 'constant'. Επίσης, παρατηρήσαμε ότι η καλύτερη απόδοση επιτυγχάνεται όταν το hidden_layer_size παίρνει τιμές στο διάστημα [20,30]. Στη συνέχεια παρουσιάζουμε τη διαδικασία αναζήτησης βέλτιστων υπερπαραμέτρων για τον Mlp με βάση όσα αναφέραμε παραπάνω."
   ]
  },
  {
   "cell_type": "code",
   "execution_count": 215,
   "metadata": {},
   "outputs": [],
   "source": [
    "hep_predictions_opt={}\n",
    "hep_macro_opt={}\n",
    "hep_weighted_opt={}\n",
    "\n",
    "kf = KFold(n_splits=10)\n",
    "kf.get_n_splits(train_resampled)\n",
    "macro_max=0\n",
    "weighted_max=0\n",
    "\n",
    "hidden_layer_sizes=[18,19,20,21,22,23,24,25,26,27,28]\n",
    "activation=['relu']\n",
    "solver=['lbfgs', 'sgd', 'adam']\n",
    "max_iter=[200,250,300,350,400,450]\n",
    "learning_rate=['constant']\n",
    "alpha=[0.0001,0.001,0.01,0.1]\n",
    "\n",
    "for n in hidden_layer_sizes:\n",
    "    for act in activation:\n",
    "        for s in solver:\n",
    "            for i in max_iter:\n",
    "                for l in learning_rate:\n",
    "                    for a in alpha:\n",
    "                        clf=MLPClassifier(solver=s, alpha=a ,hidden_layer_sizes=n, max_iter=i, activation=act, learning_rate=l)\n",
    "                        cross_macro=cross_val_score(clf, train_resampled, train_labels_resampled, cv=kf, scoring='f1_weighted').mean() \n",
    "                        cross_weighted =cross_val_score(clf, train, train_labels, cv=kf, scoring='f1_macro').mean()\n",
    "                        if cross_macro > macro_max:\n",
    "                            macro_best=[s,a,n,i,act,l]\n",
    "                            macro_max= cross_macro\n",
    "                        if cross_weighted > weighted_max:\n",
    "                            weighted_best=[s,a,n,i,act,l]\n",
    "                            weighted_max = cross_weighted\n",
    "        \n",
    "\n",
    "\n"
   ]
  },
  {
   "cell_type": "markdown",
   "metadata": {},
   "source": [
    "Στη συνέχεια παρουσιάζουμε τις βέλτιστες υπερπαραμέτρους για τον mlp όπως προέκυψαν από την παραπάνω αναζήτηση, τόσο για τη μετρική f1-macro, όσο και για τη μετρική f1-weighted. Επίσης παρουσιάζουμε confusion matrix για τους classifiers που προκύπτουν από αυτά τα 2 σύνολα υπερπαραμέτρων, καθώς και τους χρόνους για Τraining και Τesting."
   ]
  },
  {
   "cell_type": "code",
   "execution_count": 216,
   "metadata": {},
   "outputs": [
    {
     "name": "stdout",
     "output_type": "stream",
     "text": [
      "best macro parameters:\n",
      "['lbfgs', 0.001, 22, 450, 'relu', 'constant']\n",
      "best weighted parameters:\n",
      "['lbfgs', 0.001, 24, 250, 'relu', 'constant']\n",
      "\n",
      "MLP with best parameters for f1-macro\n",
      "[[ 5  0]\n",
      " [ 2 24]]\n",
      "             precision    recall  f1-score   support\n",
      "\n",
      "        1.0       0.71      1.00      0.83         5\n",
      "        2.0       1.00      0.92      0.96        26\n",
      "\n",
      "avg / total       0.95      0.94      0.94        31\n",
      "\n",
      "\n",
      "MLP with best parameters for f1-weighted\n",
      "[[ 3  2]\n",
      " [ 3 23]]\n",
      "             precision    recall  f1-score   support\n",
      "\n",
      "        1.0       0.50      0.60      0.55         5\n",
      "        2.0       0.92      0.88      0.90        26\n",
      "\n",
      "avg / total       0.85      0.84      0.84        31\n",
      "\n",
      "\n",
      "Training and Testing times for the mpl classifiers with the best parameters\n",
      "\n",
      "mlp_weighted: [0.10996294021606445, 0.00026798248291015625]\n",
      "mlp_macro: [0.19660615921020508, 0.0002770423889160156]\n"
     ]
    }
   ],
   "source": [
    "macro_best_small=macro_best\n",
    "weighted_best_small=weighted_best\n",
    "\n",
    "print(\"best macro parameters:\")\n",
    "print(macro_best)\n",
    "print(\"best weighted parameters:\")\n",
    "print(weighted_best)\n",
    "\n",
    "clf_macro=MLPClassifier(solver=macro_best[0], alpha=macro_best[1] ,hidden_layer_sizes=macro_best[2], max_iter=macro_best[3],activation=macro_best[4],learning_rate=macro_best[5])\n",
    "clf_weighted=MLPClassifier(solver=weighted_best[0], alpha=weighted_best[1] ,hidden_layer_sizes=weighted_best[2], max_iter=weighted_best[3],activation=weighted_best[4],learning_rate=weighted_best[5])\n",
    "\n",
    "import time\n",
    "times={}\n",
    "A=[]\n",
    "\n",
    "time1=time.time()\n",
    "model = clf_macro.fit(train_resampled, train_labels_resampled)\n",
    "time2=time.time()\n",
    "A.append(time2-time1)\n",
    "time1=time.time()\n",
    "hep_predictions_opt['mlp_macro']=clf_macro.predict(test)\n",
    "time2=time.time()\n",
    "A.append(time2-time1)\n",
    "times['mlp_macro']=A\n",
    "\n",
    "hep_macro_opt['mlp_macro']=precision_recall_fscore_support(test_labels,hep_predictions_opt['mlp_macro'],average='macro') \n",
    "hep_weighted_opt['mlp_macro']=precision_recall_fscore_support(test_labels,hep_predictions_opt['mlp_macro'],average='weighted')\n",
    "print(\"\\nMLP with best parameters for f1-macro\")\n",
    "print(confusion_matrix(test_labels,hep_predictions_opt['mlp_macro']))\n",
    "print classification_report(test_labels, hep_predictions_opt['mlp_macro'])\n",
    "\n",
    "   \n",
    "A=[]\n",
    "time1=time.time()\n",
    "model = clf_weighted.fit(train_resampled, train_labels_resampled)\n",
    "time2=time.time()\n",
    "A.append(time2-time1)\n",
    "time1=time.time()\n",
    "hep_predictions_opt['mlp_weighted']=clf_weighted.predict(test)\n",
    "time2=time.time()\n",
    "A.append(time2-time1)\n",
    "times['mlp_weighted']=A\n",
    "\n",
    "hep_macro_opt['mlp_weighted']=precision_recall_fscore_support(test_labels,hep_predictions_opt['mlp_weighted'],average='macro')\n",
    "hep_weighted_opt['mlp_weighted']=precision_recall_fscore_support(test_labels,hep_predictions_opt['mlp_weighted'],average='weighted')\n",
    "print(\"\\nMLP with best parameters for f1-weighted\")\n",
    "print(confusion_matrix(test_labels,hep_predictions_opt['mlp_weighted']))\n",
    "print classification_report(test_labels, hep_predictions_opt['mlp_weighted'])\n",
    "\n",
    "\n",
    "print \"\\nTraining and Testing times for the mpl classifiers with the best parameters\\n\"\n",
    "for key, value in sorted(times.iteritems(), key=lambda (k,v): (v,k)):\n",
    "   print \"%s: %s\" % (key, value)\n"
   ]
  },
  {
   "cell_type": "code",
   "execution_count": 217,
   "metadata": {},
   "outputs": [
    {
     "name": "stdout",
     "output_type": "stream",
     "text": [
      "\n",
      "10-fold cross validation results of MLP Classifier with f1-weighted average on the Hepatitis Dataset\n",
      "\n",
      "mlp_weighted: (0.85225806451612907, 0.83870967741935487, 0.84445977804611583, None)\n",
      "mlp_macro: (0.95391705069124433, 0.93548387096774188, 0.93956989247311828, None)\n",
      "\n",
      "10-fold cross validation results of MLP Classifier with f1-macro average on the Hepatitis Dataset\n",
      "\n",
      "mlp_weighted: (0.70999999999999996, 0.74230769230769234, 0.72370766488413552, None)\n",
      "mlp_macro: (0.85714285714285721, 0.96153846153846156, 0.89666666666666672, None)\n"
     ]
    },
    {
     "data": {
      "image/png": "[encoded data removed]",
      "text/plain": [
       "<matplotlib.figure.Figure at 0x7f892299b8d0>"
      ]
     },
     "metadata": {},
     "output_type": "display_data"
    },
    {
     "data": {
      "image/png": "[encoded data removed]",
      "text/plain": [
       "<matplotlib.figure.Figure at 0x7f892546e790>"
      ]
     },
     "metadata": {},
     "output_type": "display_data"
    }
   ],
   "source": [
    "#print results\n",
    "B=[]\n",
    "S1=[]\n",
    "print \"\\n10-fold cross validation results of MLP Classifier with f1-weighted average on the Hepatitis Dataset\\n\"\n",
    "for key, value in sorted(hep_weighted_opt.iteritems(), key=lambda (k,v): (v[2],k)):\n",
    "   print \"%s: %s\" % (key, value)\n",
    "   B.append(value[2])\n",
    "   S1.append(key)\n",
    "    \n",
    "C=[]\n",
    "S2=[]\n",
    "print \"\\n10-fold cross validation results of MLP Classifier with f1-macro average on the Hepatitis Dataset\\n\"\n",
    "for key, value in sorted(hep_macro_opt.iteritems(), key=lambda (k,v): (v[2],k)):\n",
    "   print \"%s: %s\" % (key, value)\n",
    "   C.append(value[2])\n",
    "   S2.append(key)\n",
    "     \n",
    "#plot f1-weighted\n",
    "fig= plt.figure(facecolor=\"white\")\n",
    "ax = fig.add_subplot(1,1,1)\n",
    "bar_width=0.5\n",
    "bar_l = numpy.arange(1,3)\n",
    "tick_pos = [i + (0.05 / 2) for i in bar_l]\n",
    "\n",
    "ax1 = ax.barh(bar_l,B,height=bar_width,color='darkred',align='center')\n",
    "ax.set_xlabel(\"F1-Weigthed\", fontsize=18)\n",
    "ax.set_ylabel(\"Classifier\", fontsize=18)\n",
    "ax.legend(loc=\"best\")\n",
    "plt.yticks(tick_pos,S1, fontsize=10)\n",
    "plt.xticks(fontsize=16)\n",
    "plt.show()\n",
    "\n",
    "#plot f1-macro\n",
    "fig= plt.figure(facecolor=\"white\")\n",
    "ax = fig.add_subplot(1,1,1)\n",
    "bar_width=0.5\n",
    "bar_l = numpy.arange(1,3)\n",
    "tick_pos = [i + (0.05 / 2) for i in bar_l]\n",
    "\n",
    "ax1 = ax.barh(bar_l,C,height=bar_width,color='darkgreen',align='center')\n",
    "ax.set_xlabel(\"F1-Macro\", fontsize=18)\n",
    "ax.set_ylabel(\"Classifier\", fontsize=18)\n",
    "ax.legend(loc=\"best\")\n",
    "plt.yticks(tick_pos,S2, fontsize=10)\n",
    "plt.xticks(fontsize=16)\n",
    "plt.show()"
   ]
  },
  {
   "cell_type": "markdown",
   "metadata": {},
   "source": [
    "Στη συνέχεια, παρουσιάζουμε τις μεταβολές στην επίδοση του MLP μετά την προεπεξεργασία της εισόδου και την αναζήτηση υπερπαραμέτρων. Παρατηρούμε ότι υπάρχει εμφανής βελτίωση."
   ]
  },
  {
   "cell_type": "code",
   "execution_count": 218,
   "metadata": {},
   "outputs": [
    {
     "name": "stdout",
     "output_type": "stream",
     "text": [
      "Results before and after optimizations for the Classifiers on the f1-macro metric:\n",
      "\n",
      "Method: mlp_macro F1-score_noOpt: 0.630952380952 F1-score_Opt: 0.896666666667 Diff: 42.1132075472%\n",
      "Method: mlp_weighted F1-score_noOpt: 0.630952380952 F1-score_Opt: 0.723707664884 Diff: 14.7008374533%\n",
      "\n",
      "\n",
      "Results before and after optimizations for the Classifiers on the f1-weigthed metric:\n",
      "\n",
      "Method: mlp_macro F1-score_noOpt: 0.832565284178 F1-score_Opt: 0.939569892473 Diff: 12.852398524%\n",
      "Method: mlp_weighted F1-score_noOpt: 0.832565284178 F1-score_Opt: 0.844459778046 Diff: 1.42865599779%\n"
     ]
    }
   ],
   "source": [
    "hep_final_m={}\n",
    "hep_final_w={}\n",
    "\n",
    "S=[]\n",
    "hep_macro['mlp_macro']=hep_macro['mlp_weighted']=hep_macro['mlp']\n",
    "hep_weighted['mlp_macro']=hep_weighted['mlp_weighted']=hep_weighted['mlp']\n",
    "\n",
    "for key, value in sorted(hep_macro_opt.iteritems(), key=lambda (k,v): (k,v)):\n",
    "   A=[]\n",
    "   S.append(key)\n",
    "   B=hep_macro[key]\n",
    "   A.append(B[2])\n",
    "   A.append(value[2])\n",
    "   A.append((value[2]-B[2])/B[2] * 100)\n",
    "   hep_final_m[key]=A\n",
    "\n",
    "for key, value in sorted(hep_weighted_opt.iteritems(), key=lambda (k,v): (k,v)):\n",
    "   A=[]\n",
    "   S.append(key)\n",
    "   B=hep_weighted[key]\n",
    "   A.append(B[2])\n",
    "   A.append(value[2])\n",
    "   A.append((value[2]-B[2])/B[2] * 100)\n",
    "   hep_final_w[key]=A\n",
    "    \n",
    "L=['Method: ', ' F1-score_noOpt: ', ' F1-score_Opt: ', ' Diff: ']\n",
    "\n",
    "print \"Results before and after optimizations for the Classifiers on the f1-macro metric:\\n\"\n",
    "for key, value in sorted(hep_final_m.iteritems(), key=lambda (k,v): (k,v)):\n",
    "    A=value\n",
    "    print(L[0] + key  + L[1] + str(A[0]) + L[2] + str(A[1]) + L[3] + str(A[2]) + \"%\")\n",
    "    \n",
    "print \"\\n\\nResults before and after optimizations for the Classifiers on the f1-weigthed metric:\\n\"\n",
    "for key, value in sorted(hep_final_w.iteritems(), key=lambda (k,v): (k,v)):\n",
    "    A=value\n",
    "    print(L[0] + key  + L[1] + str(A[0]) + L[2] + str(A[1]) + L[3] + str(A[2]) + \"%\")"
   ]
  }
 ],
 "metadata": {
  "kernelspec": {
   "display_name": "Python 2 with Spark 2.1",
   "language": "python",
   "name": "python2-spark21"
  },
  "language_info": {
   "codemirror_mode": {
    "name": "ipython",
    "version": 2
   },
   "file_extension": ".py",
   "mimetype": "text/x-python",
   "name": "python",
   "nbconvert_exporter": "python",
   "pygments_lexer": "ipython2",
   "version": "2.7.11"
  }
 },
 "nbformat": 4,
 "nbformat_minor": 1
}
